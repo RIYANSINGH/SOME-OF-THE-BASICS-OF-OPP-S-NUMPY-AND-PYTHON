{
 "cells": [
  {
   "cell_type": "markdown",
   "id": "b23f98e0",
   "metadata": {},
   "source": [
    "# Create simple class and function"
   ]
  },
  {
   "cell_type": "code",
   "execution_count": 22,
   "id": "287c895d",
   "metadata": {},
   "outputs": [],
   "source": [
    "class statistics:\n",
    "    def add(self, a, b):\n",
    "        s = a+b\n",
    "        return s\n",
    "    def sub(self, a,b):\n",
    "        s = a-b\n",
    "        return s"
   ]
  },
  {
   "cell_type": "code",
   "execution_count": 26,
   "id": "eb0b310f",
   "metadata": {},
   "outputs": [],
   "source": [
    "o = statistics()"
   ]
  },
  {
   "cell_type": "code",
   "execution_count": 27,
   "id": "c3965edc",
   "metadata": {},
   "outputs": [
    {
     "data": {
      "text/plain": [
       "-10"
      ]
     },
     "execution_count": 27,
     "metadata": {},
     "output_type": "execute_result"
    }
   ],
   "source": [
    "o.sub(10,20)"
   ]
  },
  {
   "cell_type": "code",
   "execution_count": 25,
   "id": "ad585f5a",
   "metadata": {},
   "outputs": [],
   "source": [
    "obj2 = statistics()"
   ]
  },
  {
   "cell_type": "code",
   "execution_count": 8,
   "id": "8017776f",
   "metadata": {},
   "outputs": [],
   "source": [
    "a = 20\n",
    "b = 30"
   ]
  },
  {
   "cell_type": "code",
   "execution_count": 9,
   "id": "d02f867d",
   "metadata": {},
   "outputs": [
    {
     "data": {
      "text/plain": [
       "50"
      ]
     },
     "execution_count": 9,
     "metadata": {},
     "output_type": "execute_result"
    }
   ],
   "source": [
    "obj2.add(a, b)"
   ]
  },
  {
   "cell_type": "markdown",
   "id": "18d58bf9",
   "metadata": {},
   "source": [
    "# Polymorphism"
   ]
  },
  {
   "cell_type": "code",
   "execution_count": 61,
   "id": "757a40c5",
   "metadata": {},
   "outputs": [],
   "source": [
    "class polygon:\n",
    "    def area1(self, a, b): # area of rectangle \n",
    "        s = a*b\n",
    "        return s\n",
    "    def area(self, a): # area of square\n",
    "        s = a*a\n",
    "        return s"
   ]
  },
  {
   "cell_type": "code",
   "execution_count": 62,
   "id": "32764aee",
   "metadata": {},
   "outputs": [],
   "source": [
    "obj = polygon()"
   ]
  },
  {
   "cell_type": "code",
   "execution_count": 63,
   "id": "64b0ce0d",
   "metadata": {},
   "outputs": [],
   "source": [
    "a = 10\n",
    "b = 20"
   ]
  },
  {
   "cell_type": "code",
   "execution_count": 81,
   "id": "e5b90728",
   "metadata": {},
   "outputs": [],
   "source": [
    "class Person:\n",
    "    def __init__(self, name, idnumber):\n",
    "        self.name = name\n",
    "        self.idnumber = idnumber\n",
    "    def display(self):\n",
    "        print(name)\n",
    "        print(idnumber)\n",
    "        print(self.name)\n",
    "    def details(self):\n",
    "        print(f\"My name is: {self.name}\")\n",
    "        print(f\"IdNumber: {self.idnumber}\")"
   ]
  },
  {
   "cell_type": "code",
   "execution_count": 86,
   "id": "56260670",
   "metadata": {},
   "outputs": [],
   "source": [
    "class stats:\n",
    "    def __init__(self, l):\n",
    "        self.lst = l\n",
    "    def mini(self, l):\n",
    "        m = min(self.lst)\n",
    "        return m"
   ]
  },
  {
   "cell_type": "code",
   "execution_count": 87,
   "id": "aa51f050",
   "metadata": {},
   "outputs": [],
   "source": [
    "l = [1,3,6,5,3]"
   ]
  },
  {
   "cell_type": "code",
   "execution_count": 89,
   "id": "66300463",
   "metadata": {},
   "outputs": [],
   "source": [
    "obj = stats(l)"
   ]
  },
  {
   "cell_type": "code",
   "execution_count": 90,
   "id": "57e1bc76",
   "metadata": {},
   "outputs": [
    {
     "data": {
      "text/plain": [
       "1"
      ]
     },
     "execution_count": 90,
     "metadata": {},
     "output_type": "execute_result"
    }
   ],
   "source": [
    "obj.mini()"
   ]
  },
  {
   "cell_type": "code",
   "execution_count": null,
   "id": "0ac4627d",
   "metadata": {},
   "outputs": [],
   "source": []
  },
  {
   "cell_type": "code",
   "execution_count": 88,
   "id": "e49c4feb",
   "metadata": {},
   "outputs": [
    {
     "data": {
      "text/plain": [
       "1"
      ]
     },
     "execution_count": 88,
     "metadata": {},
     "output_type": "execute_result"
    }
   ],
   "source": [
    "stats(l).mini()"
   ]
  },
  {
   "cell_type": "code",
   "execution_count": 82,
   "id": "b7900c6d",
   "metadata": {},
   "outputs": [],
   "source": [
    "obj = Person(\"Akem\", \"102\")"
   ]
  },
  {
   "cell_type": "code",
   "execution_count": 83,
   "id": "b26fcf28",
   "metadata": {},
   "outputs": [
    {
     "name": "stdout",
     "output_type": "stream",
     "text": [
      "Vasuda\n",
      "236\n",
      "Akem\n"
     ]
    }
   ],
   "source": [
    "obj.display(\"Vasuda\", \"236\")"
   ]
  },
  {
   "cell_type": "code",
   "execution_count": null,
   "id": "3a7c679f",
   "metadata": {},
   "outputs": [],
   "source": []
  },
  {
   "cell_type": "code",
   "execution_count": null,
   "id": "0ca2aadf",
   "metadata": {},
   "outputs": [],
   "source": []
  },
  {
   "cell_type": "code",
   "execution_count": 1,
   "id": "e2b9e62e",
   "metadata": {},
   "outputs": [
    {
     "name": "stdout",
     "output_type": "stream",
     "text": [
      "Rahul\n",
      "886012\n",
      "My name is Rahul\n",
      "IdNumber: 886012\n",
      "Post: Intern\n"
     ]
    }
   ],
   "source": [
    "# Python code to demonstrate how parent constructors\n",
    "# are called.\n",
    "\n",
    "# parent class\n",
    "class Person(object):\n",
    "\n",
    "\t# __init__ is known as the constructor\n",
    "\tdef __init__(self, name, idnumber):\n",
    "\t\tself.name = name\n",
    "\t\tself.idnumber = idnumber\n",
    "\n",
    "\tdef display(self):\n",
    "\t\tprint(self.name)\n",
    "\t\tprint(self.idnumber)\n",
    "\t\t\n",
    "\tdef details(self):\n",
    "\t\tprint(\"My name is {}\".format(self.name))\n",
    "\t\tprint(\"IdNumber: {}\".format(self.idnumber))\n",
    "\t\n",
    "# child class\n",
    "class Employee(Person):\n",
    "\tdef __init__(self, name, idnumber, salary, post):\n",
    "\t\tself.salary = salary\n",
    "\t\tself.post = post\n",
    "\n",
    "\t\t# invoking the __init__ of the parent class\n",
    "\t\tPerson.__init__(self, name, idnumber)\n",
    "\t\t\n",
    "\tdef details(self):\n",
    "\t\tprint(\"My name is {}\".format(self.name))\n",
    "\t\tprint(\"IdNumber: {}\".format(self.idnumber))\n",
    "\t\tprint(\"Post: {}\".format(self.post))\n",
    "\n",
    "\n",
    "# creation of an object variable or an instance\n",
    "a = Employee('Rahul', 886012, 200000, \"Intern\")\n",
    "\n",
    "# calling a function of the class Person using\n",
    "# its instance\n",
    "a.display()\n",
    "a.details()\n"
   ]
  },
  {
   "cell_type": "markdown",
   "id": "67b0d0f9",
   "metadata": {},
   "source": [
    "# public, proctected and private(data hiding-data encapsulation)"
   ]
  },
  {
   "cell_type": "code",
   "execution_count": 68,
   "id": "71c3e394",
   "metadata": {},
   "outputs": [],
   "source": [
    "class car:\n",
    "    \n",
    "    def __init__(self,name,age,color):\n",
    "        self.name=name\n",
    "        self.color= color\n",
    "        self.age = age\n",
    "        "
   ]
  },
  {
   "cell_type": "code",
   "execution_count": 69,
   "id": "2842c7e4",
   "metadata": {},
   "outputs": [],
   "source": [
    "obj=car(\"riyan\",22,\"black\") "
   ]
  },
  {
   "cell_type": "code",
   "execution_count": 70,
   "id": "03059a37",
   "metadata": {},
   "outputs": [
    {
     "data": {
      "text/plain": [
       "'riyan'"
      ]
     },
     "execution_count": 70,
     "metadata": {},
     "output_type": "execute_result"
    }
   ],
   "source": [
    "obj.name"
   ]
  },
  {
   "cell_type": "code",
   "execution_count": 71,
   "id": "149ce688",
   "metadata": {},
   "outputs": [
    {
     "data": {
      "text/plain": [
       "22"
      ]
     },
     "execution_count": 71,
     "metadata": {},
     "output_type": "execute_result"
    }
   ],
   "source": [
    "obj.age"
   ]
  },
  {
   "cell_type": "code",
   "execution_count": 11,
   "id": "09195dfb",
   "metadata": {},
   "outputs": [
    {
     "data": {
      "text/plain": [
       "['__class__',\n",
       " '__delattr__',\n",
       " '__dict__',\n",
       " '__dir__',\n",
       " '__doc__',\n",
       " '__eq__',\n",
       " '__format__',\n",
       " '__ge__',\n",
       " '__getattribute__',\n",
       " '__gt__',\n",
       " '__hash__',\n",
       " '__init__',\n",
       " '__init_subclass__',\n",
       " '__le__',\n",
       " '__lt__',\n",
       " '__module__',\n",
       " '__ne__',\n",
       " '__new__',\n",
       " '__reduce__',\n",
       " '__reduce_ex__',\n",
       " '__repr__',\n",
       " '__setattr__',\n",
       " '__sizeof__',\n",
       " '__str__',\n",
       " '__subclasshook__',\n",
       " '__weakref__',\n",
       " 'age',\n",
       " 'color',\n",
       " 'name',\n",
       " 'p']"
      ]
     },
     "execution_count": 11,
     "metadata": {},
     "output_type": "execute_result"
    }
   ],
   "source": [
    "dir(obj)"
   ]
  },
  {
   "cell_type": "code",
   "execution_count": 17,
   "id": "68eeec36",
   "metadata": {},
   "outputs": [],
   "source": [
    "r=car.__reduce__"
   ]
  },
  {
   "cell_type": "code",
   "execution_count": 18,
   "id": "32b5c955",
   "metadata": {},
   "outputs": [
    {
     "name": "stdout",
     "output_type": "stream",
     "text": [
      "<method '__reduce__' of 'object' objects>\n"
     ]
    }
   ],
   "source": [
    "print(r)"
   ]
  },
  {
   "cell_type": "code",
   "execution_count": 25,
   "id": "22a8f887",
   "metadata": {},
   "outputs": [],
   "source": [
    "l=obj.__dict__"
   ]
  },
  {
   "cell_type": "code",
   "execution_count": 26,
   "id": "ebc6fed0",
   "metadata": {},
   "outputs": [
    {
     "name": "stdout",
     "output_type": "stream",
     "text": [
      "('name', 'riyan')\n",
      "('color', 'black')\n",
      "('age', 22)\n"
     ]
    }
   ],
   "source": [
    "for i in l.items():\n",
    "    print(i)\n",
    "    "
   ]
  },
  {
   "cell_type": "markdown",
   "id": "bfd79fd1",
   "metadata": {},
   "source": [
    "# protected"
   ]
  },
  {
   "cell_type": "code",
   "execution_count": 43,
   "id": "04ce6034",
   "metadata": {},
   "outputs": [],
   "source": [
    "class car():\n",
    "    def __init__(self,windo,door,eng):\n",
    "        self._windo = windo\n",
    "        self._door= door\n",
    "        self._eng= eng\n",
    "        \n",
    "class truck(car):\n",
    "    def __init__(self,windo,door,eng,hp):\n",
    "        super().__init__(windo,door,eng)\n",
    "        self.hp=hp"
   ]
  },
  {
   "cell_type": "code",
   "execution_count": 44,
   "id": "57bedb82",
   "metadata": {},
   "outputs": [],
   "source": [
    "Truck= truck (2,3,\"petrol\",5)"
   ]
  },
  {
   "cell_type": "code",
   "execution_count": null,
   "id": "6f55fa5d",
   "metadata": {},
   "outputs": [],
   "source": [
    "k= obj"
   ]
  },
  {
   "cell_type": "code",
   "execution_count": 32,
   "id": "4af2deaa",
   "metadata": {},
   "outputs": [
    {
     "data": {
      "text/plain": [
       "['__class__',\n",
       " '__delattr__',\n",
       " '__dict__',\n",
       " '__dir__',\n",
       " '__doc__',\n",
       " '__eq__',\n",
       " '__format__',\n",
       " '__ge__',\n",
       " '__getattribute__',\n",
       " '__gt__',\n",
       " '__hash__',\n",
       " '__init__',\n",
       " '__init_subclass__',\n",
       " '__le__',\n",
       " '__lt__',\n",
       " '__module__',\n",
       " '__ne__',\n",
       " '__new__',\n",
       " '__reduce__',\n",
       " '__reduce_ex__',\n",
       " '__repr__',\n",
       " '__setattr__',\n",
       " '__sizeof__',\n",
       " '__str__',\n",
       " '__subclasshook__',\n",
       " '__weakref__',\n",
       " '_door',\n",
       " '_eng',\n",
       " '_windo',\n",
       " 'hp']"
      ]
     },
     "execution_count": 32,
     "metadata": {},
     "output_type": "execute_result"
    }
   ],
   "source": [
    "dir(Truck)"
   ]
  },
  {
   "cell_type": "code",
   "execution_count": 34,
   "id": "e0a6a8f7",
   "metadata": {},
   "outputs": [
    {
     "data": {
      "text/plain": [
       "5"
      ]
     },
     "execution_count": 34,
     "metadata": {},
     "output_type": "execute_result"
    }
   ],
   "source": [
    "Truck.hp"
   ]
  },
  {
   "cell_type": "code",
   "execution_count": 36,
   "id": "e4320514",
   "metadata": {},
   "outputs": [
    {
     "data": {
      "text/plain": [
       "'petrol'"
      ]
     },
     "execution_count": 36,
     "metadata": {},
     "output_type": "execute_result"
    }
   ],
   "source": [
    "Truck._eng"
   ]
  },
  {
   "cell_type": "markdown",
   "id": "6f3e314d",
   "metadata": {},
   "source": [
    "# private"
   ]
  },
  {
   "cell_type": "code",
   "execution_count": 41,
   "id": "e243f361",
   "metadata": {},
   "outputs": [],
   "source": [
    "class car():\n",
    "    def __init__(self,windo,door,eng=34):\n",
    "        self.__windo = windo #doublee under score lgaya ha isme\n",
    "        self.__door= door#same here\n",
    "        self.__eng= eng#same here\n",
    "        \n",
    "class Truck(car):\n",
    "    def __init__(self,windo,door,eng,hp):\n",
    "        super().__init__(windo,door,eng)\n",
    "        self.hp=hp"
   ]
  },
  {
   "cell_type": "code",
   "execution_count": 42,
   "id": "14067b59",
   "metadata": {},
   "outputs": [
    {
     "ename": "TypeError",
     "evalue": "__init__() missing 1 required positional argument: 'hp'",
     "output_type": "error",
     "traceback": [
      "\u001b[1;31m---------------------------------------------------------------------------\u001b[0m",
      "\u001b[1;31mTypeError\u001b[0m                                 Traceback (most recent call last)",
      "Input \u001b[1;32mIn [42]\u001b[0m, in \u001b[0;36m<cell line: 1>\u001b[1;34m()\u001b[0m\n\u001b[1;32m----> 1\u001b[0m truck\u001b[38;5;241m=\u001b[39m \u001b[43mTruck\u001b[49m\u001b[43m(\u001b[49m\u001b[38;5;241;43m7\u001b[39;49m\u001b[43m,\u001b[49m\u001b[38;5;241;43m4\u001b[39;49m\u001b[43m,\u001b[49m\u001b[38;5;124;43m\"\u001b[39;49m\u001b[38;5;124;43mmy\u001b[39;49m\u001b[38;5;124;43m\"\u001b[39;49m\u001b[43m)\u001b[49m\n",
      "\u001b[1;31mTypeError\u001b[0m: __init__() missing 1 required positional argument: 'hp'"
     ]
    }
   ],
   "source": [
    "truck= Truck(7,4,\"my\")"
   ]
  },
  {
   "cell_type": "code",
   "execution_count": 35,
   "id": "2e2d73fa",
   "metadata": {},
   "outputs": [],
   "source": [
    "k=obj.__dict__"
   ]
  },
  {
   "cell_type": "code",
   "execution_count": 36,
   "id": "89fa8b57",
   "metadata": {},
   "outputs": [
    {
     "ename": "AttributeError",
     "evalue": "type object 'car' has no attribute '_car__door'",
     "output_type": "error",
     "traceback": [
      "\u001b[1;31m---------------------------------------------------------------------------\u001b[0m",
      "\u001b[1;31mAttributeError\u001b[0m                            Traceback (most recent call last)",
      "Input \u001b[1;32mIn [36]\u001b[0m, in \u001b[0;36m<cell line: 1>\u001b[1;34m()\u001b[0m\n\u001b[1;32m----> 1\u001b[0m \u001b[43mcar\u001b[49m\u001b[38;5;241;43m.\u001b[39;49m\u001b[43m_car__door\u001b[49m\n",
      "\u001b[1;31mAttributeError\u001b[0m: type object 'car' has no attribute '_car__door'"
     ]
    }
   ],
   "source": [
    "car._car__door"
   ]
  },
  {
   "cell_type": "code",
   "execution_count": 50,
   "id": "61bedaea",
   "metadata": {},
   "outputs": [
    {
     "data": {
      "text/plain": [
       "['__class__',\n",
       " '__delattr__',\n",
       " '__dict__',\n",
       " '__dir__',\n",
       " '__doc__',\n",
       " '__eq__',\n",
       " '__format__',\n",
       " '__ge__',\n",
       " '__getattribute__',\n",
       " '__gt__',\n",
       " '__hash__',\n",
       " '__init__',\n",
       " '__init_subclass__',\n",
       " '__le__',\n",
       " '__lt__',\n",
       " '__module__',\n",
       " '__ne__',\n",
       " '__new__',\n",
       " '__reduce__',\n",
       " '__reduce_ex__',\n",
       " '__repr__',\n",
       " '__setattr__',\n",
       " '__sizeof__',\n",
       " '__str__',\n",
       " '__subclasshook__',\n",
       " '__weakref__',\n",
       " '_door',\n",
       " '_eng',\n",
       " '_windo',\n",
       " 'hp']"
      ]
     },
     "execution_count": 50,
     "metadata": {},
     "output_type": "execute_result"
    }
   ],
   "source": [
    "dir(Truck)"
   ]
  },
  {
   "cell_type": "code",
   "execution_count": null,
   "id": "d40af1dd",
   "metadata": {},
   "outputs": [],
   "source": [
    "Truck"
   ]
  },
  {
   "cell_type": "code",
   "execution_count": 66,
   "id": "9b46ae88",
   "metadata": {},
   "outputs": [],
   "source": [
    "class Car():\n",
    "    def __init__(self,windo,door,eng=34):\n",
    "        self.__windo = windo #doublee under score lgaya ha isme\n",
    "        self.__door= door#same here\n",
    "        self.__eng= eng#same here\n",
    "        "
   ]
  },
  {
   "cell_type": "code",
   "execution_count": 75,
   "id": "076e6e8d",
   "metadata": {},
   "outputs": [],
   "source": [
    "obj=car(7,8,0)"
   ]
  },
  {
   "cell_type": "raw",
   "id": "7809ff53",
   "metadata": {},
   "source": []
  },
  {
   "cell_type": "code",
   "execution_count": 76,
   "id": "99bc7f9e",
   "metadata": {},
   "outputs": [],
   "source": [
    "Car.windo=3"
   ]
  },
  {
   "cell_type": "code",
   "execution_count": 77,
   "id": "3d6d8677",
   "metadata": {},
   "outputs": [
    {
     "ename": "AttributeError",
     "evalue": "'car' object has no attribute '__dict__'",
     "output_type": "error",
     "traceback": [
      "\u001b[1;31m---------------------------------------------------------------------------\u001b[0m",
      "\u001b[1;31mAttributeError\u001b[0m                            Traceback (most recent call last)",
      "Input \u001b[1;32mIn [77]\u001b[0m, in \u001b[0;36m<cell line: 1>\u001b[1;34m()\u001b[0m\n\u001b[1;32m----> 1\u001b[0m l\u001b[38;5;241m=\u001b[39m\u001b[43mobj\u001b[49m\u001b[38;5;241;43m.\u001b[39;49m\u001b[38;5;18;43m__dict__\u001b[39;49m\n",
      "\u001b[1;31mAttributeError\u001b[0m: 'car' object has no attribute '__dict__'"
     ]
    }
   ],
   "source": [
    "l=obj.__dict__"
   ]
  },
  {
   "cell_type": "code",
   "execution_count": 63,
   "id": "98e5ea1d",
   "metadata": {},
   "outputs": [
    {
     "name": "stdout",
     "output_type": "stream",
     "text": [
      "('name', 7)\n",
      "('color', 0)\n",
      "('age', 8)\n"
     ]
    }
   ],
   "source": [
    "for i in l.items():\n",
    "    print(i)"
   ]
  },
  {
   "cell_type": "code",
   "execution_count": 72,
   "id": "a757284b",
   "metadata": {},
   "outputs": [],
   "source": [
    "class Car:\n",
    "    __slots__=(\"name\",\"color\",\"age\")\n",
    "    def __init__(self,name,age,color):\n",
    "        self.name=name\n",
    "        self.color= color\n",
    "        self.age = age"
   ]
  },
  {
   "cell_type": "code",
   "execution_count": 73,
   "id": "fe8c21f9",
   "metadata": {},
   "outputs": [],
   "source": [
    "c=Car(\"honda\",\"red\",2)"
   ]
  },
  {
   "cell_type": "code",
   "execution_count": 74,
   "id": "2eac6304",
   "metadata": {},
   "outputs": [],
   "source": [
    "c.model=\"top\""
   ]
  },
  {
   "cell_type": "code",
   "execution_count": 80,
   "id": "83a60b27",
   "metadata": {},
   "outputs": [],
   "source": [
    "import numpy as np"
   ]
  },
  {
   "cell_type": "raw",
   "id": "e60f455d",
   "metadata": {},
   "source": [
    "\n"
   ]
  },
  {
   "cell_type": "code",
   "execution_count": 119,
   "id": "65d55fc4",
   "metadata": {},
   "outputs": [],
   "source": [
    "s=[[2,3,4,5,6,7,8,8,],[3,4,5,6,7,6,5,4]]"
   ]
  },
  {
   "cell_type": "code",
   "execution_count": 120,
   "id": "e6f173f8",
   "metadata": {},
   "outputs": [
    {
     "data": {
      "text/plain": [
       "list"
      ]
     },
     "execution_count": 120,
     "metadata": {},
     "output_type": "execute_result"
    }
   ],
   "source": [
    "type(s)"
   ]
  },
  {
   "cell_type": "code",
   "execution_count": 121,
   "id": "423e3661",
   "metadata": {},
   "outputs": [],
   "source": [
    "a=np.array(s)"
   ]
  },
  {
   "cell_type": "code",
   "execution_count": 122,
   "id": "df73c956",
   "metadata": {},
   "outputs": [
    {
     "data": {
      "text/plain": [
       "numpy.ndarray"
      ]
     },
     "execution_count": 122,
     "metadata": {},
     "output_type": "execute_result"
    }
   ],
   "source": [
    "type(a)"
   ]
  },
  {
   "cell_type": "code",
   "execution_count": 123,
   "id": "d6c19362",
   "metadata": {},
   "outputs": [
    {
     "data": {
      "text/plain": [
       "2"
      ]
     },
     "execution_count": 123,
     "metadata": {},
     "output_type": "execute_result"
    }
   ],
   "source": [
    "len(a)"
   ]
  },
  {
   "cell_type": "code",
   "execution_count": 100,
   "id": "5d0729c3",
   "metadata": {},
   "outputs": [],
   "source": [
    "a=[1,4]"
   ]
  },
  {
   "cell_type": "code",
   "execution_count": 90,
   "id": "52fc842a",
   "metadata": {},
   "outputs": [
    {
     "data": {
      "text/plain": [
       "<function print>"
      ]
     },
     "execution_count": 90,
     "metadata": {},
     "output_type": "execute_result"
    }
   ],
   "source": [
    "print "
   ]
  },
  {
   "cell_type": "code",
   "execution_count": 112,
   "id": "64f7ca86",
   "metadata": {},
   "outputs": [
    {
     "data": {
      "text/plain": [
       "47"
      ]
     },
     "execution_count": 112,
     "metadata": {},
     "output_type": "execute_result"
    }
   ],
   "source": [
    "len(dir(a))"
   ]
  },
  {
   "cell_type": "code",
   "execution_count": 114,
   "id": "09b26bda",
   "metadata": {},
   "outputs": [
    {
     "data": {
      "text/plain": [
       "['__add__',\n",
       " '__class__',\n",
       " '__class_getitem__',\n",
       " '__contains__',\n",
       " '__delattr__',\n",
       " '__delitem__',\n",
       " '__dir__',\n",
       " '__doc__',\n",
       " '__eq__',\n",
       " '__format__',\n",
       " '__ge__',\n",
       " '__getattribute__',\n",
       " '__getitem__',\n",
       " '__gt__',\n",
       " '__hash__',\n",
       " '__iadd__',\n",
       " '__imul__',\n",
       " '__init__',\n",
       " '__init_subclass__',\n",
       " '__iter__',\n",
       " '__le__',\n",
       " '__len__',\n",
       " '__lt__',\n",
       " '__mul__',\n",
       " '__ne__',\n",
       " '__new__',\n",
       " '__reduce__',\n",
       " '__reduce_ex__',\n",
       " '__repr__',\n",
       " '__reversed__',\n",
       " '__rmul__',\n",
       " '__setattr__',\n",
       " '__setitem__',\n",
       " '__sizeof__',\n",
       " '__str__',\n",
       " '__subclasshook__',\n",
       " 'append',\n",
       " 'clear',\n",
       " 'copy',\n",
       " 'count',\n",
       " 'extend',\n",
       " 'index',\n",
       " 'insert',\n",
       " 'pop',\n",
       " 'remove',\n",
       " 'reverse',\n",
       " 'sort']"
      ]
     },
     "execution_count": 114,
     "metadata": {},
     "output_type": "execute_result"
    }
   ],
   "source": [
    "dir(s)"
   ]
  },
  {
   "cell_type": "code",
   "execution_count": 113,
   "id": "1d6f73d8",
   "metadata": {},
   "outputs": [],
   "source": [
    "from numpy import shape"
   ]
  },
  {
   "cell_type": "code",
   "execution_count": 116,
   "id": "459be7b9",
   "metadata": {},
   "outputs": [],
   "source": [
    "from numpy import *"
   ]
  },
  {
   "cell_type": "code",
   "execution_count": 124,
   "id": "5d8bf468",
   "metadata": {},
   "outputs": [
    {
     "data": {
      "text/plain": [
       "(2, 8)"
      ]
     },
     "execution_count": 124,
     "metadata": {},
     "output_type": "execute_result"
    }
   ],
   "source": [
    "shape(a)"
   ]
  },
  {
   "cell_type": "code",
   "execution_count": 126,
   "id": "ba8c0eee",
   "metadata": {},
   "outputs": [
    {
     "data": {
      "text/plain": [
       "162"
      ]
     },
     "execution_count": 126,
     "metadata": {},
     "output_type": "execute_result"
    }
   ],
   "source": [
    "len(dir(a))"
   ]
  },
  {
   "cell_type": "code",
   "execution_count": 127,
   "id": "734519bb",
   "metadata": {},
   "outputs": [
    {
     "data": {
      "text/plain": [
       "array([[2, 3],\n",
       "       [4, 5],\n",
       "       [6, 7],\n",
       "       [8, 8],\n",
       "       [3, 4],\n",
       "       [5, 6],\n",
       "       [7, 6],\n",
       "       [5, 4]])"
      ]
     },
     "execution_count": 127,
     "metadata": {},
     "output_type": "execute_result"
    }
   ],
   "source": [
    "a.reshape(8,2)\n",
    "\n"
   ]
  },
  {
   "cell_type": "code",
   "execution_count": 130,
   "id": "a8b51342",
   "metadata": {},
   "outputs": [
    {
     "data": {
      "text/plain": [
       "array([[2, 3, 4, 5],\n",
       "       [6, 7, 8, 8],\n",
       "       [3, 4, 5, 6],\n",
       "       [7, 6, 5, 4]])"
      ]
     },
     "execution_count": 130,
     "metadata": {},
     "output_type": "execute_result"
    }
   ],
   "source": [
    "a.reshape(4,4)"
   ]
  },
  {
   "cell_type": "code",
   "execution_count": 135,
   "id": "a8713f95",
   "metadata": {},
   "outputs": [
    {
     "name": "stdout",
     "output_type": "stream",
     "text": [
      "\n",
      "Note: you may need to restart the kernel to use updated packages.\n"
     ]
    },
    {
     "name": "stderr",
     "output_type": "stream",
     "text": [
      "\n",
      "EnvironmentNotWritableError: The current user does not have write permissions to the target environment.\n",
      "  environment location: C:\\ProgramData\\Anaconda3\n",
      "\n",
      "\n"
     ]
    },
    {
     "name": "stdout",
     "output_type": "stream",
     "text": [
      "Collecting package metadata (current_repodata.json): ...working... done\n",
      "Solving environment: ...working... done\n",
      "\n",
      "## Package Plan ##\n",
      "\n",
      "  environment location: C:\\ProgramData\\Anaconda3\n",
      "\n",
      "  added / updated specs:\n",
      "    - numpy\n",
      "\n",
      "\n",
      "The following packages will be UPDATED:\n",
      "\n",
      "  conda                               4.12.0-py39haa95532_0 --> 4.14.0-py39haa95532_0\n",
      "\n",
      "\n",
      "Preparing transaction: ...working... done\n",
      "Verifying transaction: ...working... failed\n"
     ]
    }
   ],
   "source": [
    "conda install numpy"
   ]
  },
  {
   "cell_type": "code",
   "execution_count": 139,
   "id": "662155d4",
   "metadata": {},
   "outputs": [
    {
     "data": {
      "text/plain": [
       "'1.21.5'"
      ]
     },
     "execution_count": 139,
     "metadata": {},
     "output_type": "execute_result"
    }
   ],
   "source": [
    "np.__version__"
   ]
  },
  {
   "cell_type": "code",
   "execution_count": 4,
   "id": "3a4f2be4",
   "metadata": {},
   "outputs": [],
   "source": [
    "import math"
   ]
  },
  {
   "cell_type": "code",
   "execution_count": 11,
   "id": "6c9bdf67",
   "metadata": {},
   "outputs": [
    {
     "data": {
      "text/plain": [
       "['__doc__',\n",
       " '__loader__',\n",
       " '__name__',\n",
       " '__package__',\n",
       " '__spec__',\n",
       " 'acos',\n",
       " 'acosh',\n",
       " 'asin',\n",
       " 'asinh',\n",
       " 'atan',\n",
       " 'atan2',\n",
       " 'atanh',\n",
       " 'ceil',\n",
       " 'comb',\n",
       " 'copysign',\n",
       " 'cos',\n",
       " 'cosh',\n",
       " 'degrees',\n",
       " 'dist',\n",
       " 'e',\n",
       " 'erf',\n",
       " 'erfc',\n",
       " 'exp',\n",
       " 'expm1',\n",
       " 'fabs',\n",
       " 'factorial',\n",
       " 'floor',\n",
       " 'fmod',\n",
       " 'frexp',\n",
       " 'fsum',\n",
       " 'gamma',\n",
       " 'gcd',\n",
       " 'hypot',\n",
       " 'inf',\n",
       " 'isclose',\n",
       " 'isfinite',\n",
       " 'isinf',\n",
       " 'isnan',\n",
       " 'isqrt',\n",
       " 'lcm',\n",
       " 'ldexp',\n",
       " 'lgamma',\n",
       " 'log',\n",
       " 'log10',\n",
       " 'log1p',\n",
       " 'log2',\n",
       " 'modf',\n",
       " 'nan',\n",
       " 'nextafter',\n",
       " 'perm',\n",
       " 'pi',\n",
       " 'pow',\n",
       " 'prod',\n",
       " 'radians',\n",
       " 'remainder',\n",
       " 'sin',\n",
       " 'sinh',\n",
       " 'sqrt',\n",
       " 'tan',\n",
       " 'tanh',\n",
       " 'tau',\n",
       " 'trunc',\n",
       " 'ulp']"
      ]
     },
     "execution_count": 11,
     "metadata": {},
     "output_type": "execute_result"
    }
   ],
   "source": [
    "dir(math)"
   ]
  },
  {
   "cell_type": "code",
   "execution_count": 8,
   "id": "46a6388c",
   "metadata": {},
   "outputs": [
    {
     "ename": "AttributeError",
     "evalue": "'list' object has no attribute 'sqrt'",
     "output_type": "error",
     "traceback": [
      "\u001b[1;31m---------------------------------------------------------------------------\u001b[0m",
      "\u001b[1;31mAttributeError\u001b[0m                            Traceback (most recent call last)",
      "Input \u001b[1;32mIn [8]\u001b[0m, in \u001b[0;36m<cell line: 1>\u001b[1;34m()\u001b[0m\n\u001b[1;32m----> 1\u001b[0m \u001b[38;5;28minput\u001b[39m(\u001b[43ma\u001b[49m\u001b[38;5;241;43m.\u001b[39;49m\u001b[43msqrt\u001b[49m())\n",
      "\u001b[1;31mAttributeError\u001b[0m: 'list' object has no attribute 'sqrt'"
     ]
    }
   ],
   "source": [
    "input(a.sqrt())"
   ]
  },
  {
   "cell_type": "code",
   "execution_count": 15,
   "id": "f4293430",
   "metadata": {},
   "outputs": [
    {
     "ename": "TypeError",
     "evalue": "'int' object is not iterable",
     "output_type": "error",
     "traceback": [
      "\u001b[1;31m---------------------------------------------------------------------------\u001b[0m",
      "\u001b[1;31mTypeError\u001b[0m                                 Traceback (most recent call last)",
      "Input \u001b[1;32mIn [15]\u001b[0m, in \u001b[0;36m<cell line: 1>\u001b[1;34m()\u001b[0m\n\u001b[1;32m----> 1\u001b[0m \u001b[43mmath\u001b[49m\u001b[38;5;241;43m.\u001b[39;49m\u001b[43mprod\u001b[49m\u001b[43m(\u001b[49m\u001b[38;5;241;43m65\u001b[39;49m\u001b[43m)\u001b[49m\n",
      "\u001b[1;31mTypeError\u001b[0m: 'int' object is not iterable"
     ]
    }
   ],
   "source": [
    "math.prod(65)"
   ]
  },
  {
   "cell_type": "code",
   "execution_count": 20,
   "id": "c0aab9d5",
   "metadata": {},
   "outputs": [
    {
     "data": {
      "text/plain": [
       "5"
      ]
     },
     "execution_count": 20,
     "metadata": {},
     "output_type": "execute_result"
    }
   ],
   "source": [
    "round(4.9)"
   ]
  },
  {
   "cell_type": "code",
   "execution_count": 22,
   "id": "b05ef91f",
   "metadata": {},
   "outputs": [
    {
     "data": {
      "text/plain": [
       "str"
      ]
     },
     "execution_count": 22,
     "metadata": {},
     "output_type": "execute_result"
    }
   ],
   "source": [
    "type(4)"
   ]
  },
  {
   "cell_type": "code",
   "execution_count": 24,
   "id": "5a7fcc2a",
   "metadata": {},
   "outputs": [],
   "source": [
    "a=[\"riyan\",\"boby\"]"
   ]
  },
  {
   "cell_type": "code",
   "execution_count": 25,
   "id": "51c4cb18",
   "metadata": {},
   "outputs": [],
   "source": [
    "a.append(\"riya\")"
   ]
  },
  {
   "cell_type": "code",
   "execution_count": 26,
   "id": "edcbd82e",
   "metadata": {},
   "outputs": [
    {
     "name": "stdout",
     "output_type": "stream",
     "text": [
      "['riyan', 'boby', 'riya']\n"
     ]
    }
   ],
   "source": [
    "print(a)"
   ]
  },
  {
   "cell_type": "code",
   "execution_count": 30,
   "id": "54653d20",
   "metadata": {},
   "outputs": [],
   "source": [
    "a.insert(1,\"oof\")"
   ]
  },
  {
   "cell_type": "code",
   "execution_count": 31,
   "id": "f7340228",
   "metadata": {},
   "outputs": [
    {
     "name": "stdout",
     "output_type": "stream",
     "text": [
      "['riyan', 'oof', 'oof', 'boby', 'riya']\n"
     ]
    }
   ],
   "source": [
    "print(a)"
   ]
  },
  {
   "cell_type": "code",
   "execution_count": 34,
   "id": "c88c4afe",
   "metadata": {},
   "outputs": [
    {
     "name": "stdout",
     "output_type": "stream",
     "text": [
      "value not defined\n"
     ]
    }
   ],
   "source": [
    "\n",
    "try:\n",
    "    a=5/0\n",
    "except:\n",
    "        print(\"value not defined\")"
   ]
  },
  {
   "cell_type": "code",
   "execution_count": 44,
   "id": "4588f2df",
   "metadata": {},
   "outputs": [],
   "source": [
    "nums=[1,2,3,4,5,6]\n",
    "y=[]"
   ]
  },
  {
   "cell_type": "code",
   "execution_count": 45,
   "id": "e31702cb",
   "metadata": {},
   "outputs": [],
   "source": [
    "for num in nums:\n",
    "    y.append(num**2)"
   ]
  },
  {
   "cell_type": "code",
   "execution_count": 46,
   "id": "283d9cd8",
   "metadata": {},
   "outputs": [
    {
     "name": "stdout",
     "output_type": "stream",
     "text": [
      "[1, 4, 9, 16, 25, 36]\n"
     ]
    }
   ],
   "source": [
    "print(y)"
   ]
  },
  {
   "cell_type": "code",
   "execution_count": null,
   "id": "94742b96",
   "metadata": {},
   "outputs": [],
   "source": [
    "for nem in nums:\n",
    "    "
   ]
  },
  {
   "cell_type": "code",
   "execution_count": 50,
   "id": "8fe99df4",
   "metadata": {},
   "outputs": [],
   "source": [
    "import numpy as np"
   ]
  },
  {
   "cell_type": "code",
   "execution_count": 51,
   "id": "8d22675e",
   "metadata": {},
   "outputs": [
    {
     "data": {
      "text/plain": [
       "array([0.        , 0.02272727, 0.04545455, 0.06818182, 0.09090909,\n",
       "       0.11363636, 0.13636364, 0.15909091, 0.18181818, 0.20454545,\n",
       "       0.22727273, 0.25      , 0.27272727, 0.29545455, 0.31818182,\n",
       "       0.34090909, 0.36363636, 0.38636364, 0.40909091, 0.43181818,\n",
       "       0.45454545, 0.47727273, 0.5       , 0.52272727, 0.54545455,\n",
       "       0.56818182, 0.59090909, 0.61363636, 0.63636364, 0.65909091,\n",
       "       0.68181818, 0.70454545, 0.72727273, 0.75      , 0.77272727,\n",
       "       0.79545455, 0.81818182, 0.84090909, 0.86363636, 0.88636364,\n",
       "       0.90909091, 0.93181818, 0.95454545, 0.97727273, 1.        ])"
      ]
     },
     "execution_count": 51,
     "metadata": {},
     "output_type": "execute_result"
    }
   ],
   "source": [
    "np.linspace(0,1,45)"
   ]
  },
  {
   "cell_type": "code",
   "execution_count": 67,
   "id": "0fc35b3e",
   "metadata": {},
   "outputs": [],
   "source": [
    "a=np.ones((3,8))"
   ]
  },
  {
   "cell_type": "code",
   "execution_count": 69,
   "id": "18fe2998",
   "metadata": {},
   "outputs": [
    {
     "name": "stdout",
     "output_type": "stream",
     "text": [
      "[[1. 1. 1. 1. 1. 1. 1. 1.]\n",
      " [1. 1. 1. 1. 1. 1. 1. 1.]\n",
      " [1. 1. 1. 1. 1. 1. 1. 1.]]\n"
     ]
    }
   ],
   "source": [
    "print(a)"
   ]
  },
  {
   "cell_type": "code",
   "execution_count": 58,
   "id": "8785e38d",
   "metadata": {},
   "outputs": [],
   "source": [
    "b=np.ones((8,3))"
   ]
  },
  {
   "cell_type": "code",
   "execution_count": 59,
   "id": "29f5bbd7",
   "metadata": {},
   "outputs": [
    {
     "data": {
      "text/plain": [
       "array([[8., 8., 8.],\n",
       "       [8., 8., 8.],\n",
       "       [8., 8., 8.]])"
      ]
     },
     "execution_count": 59,
     "metadata": {},
     "output_type": "execute_result"
    }
   ],
   "source": [
    "np.dot(a,b)"
   ]
  },
  {
   "cell_type": "code",
   "execution_count": 61,
   "id": "e997f8fe",
   "metadata": {},
   "outputs": [],
   "source": [
    "b=np.ones(1)"
   ]
  },
  {
   "cell_type": "code",
   "execution_count": 66,
   "id": "dabd8368",
   "metadata": {},
   "outputs": [
    {
     "ename": "TypeError",
     "evalue": "only size-1 arrays can be converted to Python scalars",
     "output_type": "error",
     "traceback": [
      "\u001b[1;31m---------------------------------------------------------------------------\u001b[0m",
      "\u001b[1;31mTypeError\u001b[0m                                 Traceback (most recent call last)",
      "Input \u001b[1;32mIn [66]\u001b[0m, in \u001b[0;36m<cell line: 1>\u001b[1;34m()\u001b[0m\n\u001b[1;32m----> 1\u001b[0m \u001b[38;5;28;43mint\u001b[39;49m\u001b[43m(\u001b[49m\u001b[43mnp\u001b[49m\u001b[38;5;241;43m.\u001b[39;49m\u001b[43mrandom\u001b[49m\u001b[38;5;241;43m.\u001b[39;49m\u001b[43mrandn\u001b[49m\u001b[43m(\u001b[49m\u001b[38;5;241;43m4\u001b[39;49m\u001b[43m,\u001b[49m\u001b[38;5;241;43m3\u001b[39;49m\u001b[43m)\u001b[49m\u001b[43m)\u001b[49m\n",
      "\u001b[1;31mTypeError\u001b[0m: only size-1 arrays can be converted to Python scalars"
     ]
    }
   ],
   "source": [
    "np.random.randn(4,3)"
   ]
  },
  {
   "cell_type": "code",
   "execution_count": 68,
   "id": "9ceb443e",
   "metadata": {},
   "outputs": [
    {
     "data": {
      "text/plain": [
       "1.0"
      ]
     },
     "execution_count": 68,
     "metadata": {},
     "output_type": "execute_result"
    }
   ],
   "source": [
    "np.median(a)"
   ]
  },
  {
   "cell_type": "code",
   "execution_count": null,
   "id": "83cc7c37",
   "metadata": {},
   "outputs": [],
   "source": []
  }
 ],
 "metadata": {
  "kernelspec": {
   "display_name": "Python 3.9.12 ('base')",
   "language": "python",
   "name": "python3"
  },
  "language_info": {
   "codemirror_mode": {
    "name": "ipython",
    "version": 3
   },
   "file_extension": ".py",
   "mimetype": "text/x-python",
   "name": "python",
   "nbconvert_exporter": "python",
   "pygments_lexer": "ipython3",
   "version": "3.9.12"
  },
  "vscode": {
   "interpreter": {
    "hash": "ad2bdc8ecc057115af97d19610ffacc2b4e99fae6737bb82f5d7fb13d2f2c186"
   }
  }
 },
 "nbformat": 4,
 "nbformat_minor": 5
}

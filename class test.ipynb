{
 "cells": [
  {
   "cell_type": "markdown",
   "id": "2367a6e6",
   "metadata": {},
   "source": [
    "# 1st ques"
   ]
  },
  {
   "cell_type": "code",
   "execution_count": 1,
   "id": "d37c7dd4",
   "metadata": {},
   "outputs": [
    {
     "name": "stdout",
     "output_type": "stream",
     "text": [
      "not weired\n"
     ]
    }
   ],
   "source": [
    "n=int(input(\"enter the integer:\"))\n",
    "if   (n%2 == 1) or (n>6 and n<20):\n",
    "    print(\"Weird\")\n",
    "else:\n",
    "    print(\"not weired\")\n",
    "        "
   ]
  },
  {
   "cell_type": "markdown",
   "id": "6a238709",
   "metadata": {},
   "source": [
    "# 2nd question"
   ]
  },
  {
   "cell_type": "code",
   "execution_count": 7,
   "id": "ae92e17b",
   "metadata": {},
   "outputs": [
    {
     "name": "stdout",
     "output_type": "stream",
     "text": [
      "enter the number7\n",
      "465\n",
      "46\n",
      "46\n",
      "46\n",
      "46\n",
      "46\n",
      "46\n",
      "[216225, 2116, 2116, 2116, 2116, 2116, 2116]\n"
     ]
    }
   ],
   "source": [
    "a=[]\n",
    "n=int(input(\"enter the number\"))\n",
    "for number in range(0,n):\n",
    "    b = int(input())\n",
    "    a.append(b**2)\n",
    "    \n",
    "    \n",
    "print(a)"
   ]
  },
  {
   "cell_type": "markdown",
   "id": "93038f6e",
   "metadata": {},
   "source": [
    "# 3rd"
   ]
  },
  {
   "cell_type": "code",
   "execution_count": 1,
   "id": "5aabc3f2",
   "metadata": {},
   "outputs": [
    {
     "name": "stdout",
     "output_type": "stream",
     "text": [
      "77\n"
     ]
    }
   ],
   "source": [
    "cricket_scoresheet = [66,77,45,34,55,98]\n",
    "cricket_scoresheet.sort()\n",
    "runner_up = cricket_scoresheet[-2]\n",
    "print(runner_up)"
   ]
  },
  {
   "cell_type": "markdown",
   "id": "ef9f90de",
   "metadata": {},
   "source": [
    "# 5"
   ]
  },
  {
   "cell_type": "code",
   "execution_count": 59,
   "id": "a45a6406",
   "metadata": {},
   "outputs": [
    {
     "name": "stdout",
     "output_type": "stream",
     "text": [
      "47.83\n"
     ]
    }
   ],
   "source": [
    "students ={\n",
    "    \"riyan\":30,\n",
    "    \"rubin\":40,\n",
    "    \"john\":50,\n",
    "    \"rahul\":75,\n",
    "    \"stuti\":92\n",
    "    \n",
    "}\n",
    "\n",
    "a = (sum(students.values())/6)\n",
    "b = \"{:.2f}\".format(a)\n",
    "print(b)"
   ]
  },
  {
   "cell_type": "markdown",
   "id": "202796ae",
   "metadata": {},
   "source": [
    "# 7"
   ]
  },
  {
   "cell_type": "code",
   "execution_count": 53,
   "id": "36c97826",
   "metadata": {},
   "outputs": [
    {
     "name": "stdout",
     "output_type": "stream",
     "text": [
      "['Computer', 'programming', 'the', 'process', 'of', 'performing', 'a', 'particular', 'computation', '(', 'more', 'generally,', 'accomplishing', 'a', 'specific', 'computing', 'result),', 'usually', 'by', 'designing', 'building', 'an', 'executable', 'computer', 'program.', 'Programming', 'involves', 'tasks', 'such', 'analysis,', 'generating', 'algorithms,', 'profiling', \"algorithms'\", 'accuracy', 'and', 'resource', 'consumption,', 'and', 'the', 'implementation', 'of', 'algorithms', '(usually', 'in', 'a', 'chosen', 'programming', 'language,', 'commonly', 'referred', 'to', 'as', 'coding)']\n"
     ]
    }
   ],
   "source": [
    "paragraph = (\"\"\"Computer programming  the process of performing a particular computation ( more generally, accomplishing a specific computing result), usually by designing  building an executable computer program. Programming involves tasks such  analysis, generating algorithms, profiling algorithms' accuracy and resource consumption, and the implementation of algorithms (usually in a chosen programming language, commonly referred to as coding)\"\"\")\n",
    "print(paragraph.split())"
   ]
  },
  {
   "cell_type": "markdown",
   "id": "86ad50ed",
   "metadata": {},
   "source": [
    "# 6"
   ]
  },
  {
   "cell_type": "code",
   "execution_count": null,
   "id": "9df612a2",
   "metadata": {},
   "outputs": [],
   "source": []
  }
 ],
 "metadata": {
  "kernelspec": {
   "display_name": "Python 3.9.12 ('base')",
   "language": "python",
   "name": "python3"
  },
  "language_info": {
   "codemirror_mode": {
    "name": "ipython",
    "version": 3
   },
   "file_extension": ".py",
   "mimetype": "text/x-python",
   "name": "python",
   "nbconvert_exporter": "python",
   "pygments_lexer": "ipython3",
   "version": "3.9.12"
  },
  "vscode": {
   "interpreter": {
    "hash": "ad2bdc8ecc057115af97d19610ffacc2b4e99fae6737bb82f5d7fb13d2f2c186"
   }
  }
 },
 "nbformat": 4,
 "nbformat_minor": 5
}

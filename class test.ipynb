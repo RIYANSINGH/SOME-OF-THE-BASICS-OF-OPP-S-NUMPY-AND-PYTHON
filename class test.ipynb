{
 "cells": [
  {
   "cell_type": "markdown",
   "id": "2367a6e6",
   "metadata": {},
   "source": [
    "# 1st ques\n",
    "Given an integer n, perform the following conditional actions:\n",
    "* If n is odd, print Weird\n",
    "* If n is even and in the inclusive range 2 to 5, print Not Weird\n",
    "* If n is even and in the inclusive range 6 to 20, print Weird\n",
    "* If n is even and greater than 20, print Not Weird"
   ]
  },
  {
   "cell_type": "code",
   "execution_count": 1,
   "id": "d37c7dd4",
   "metadata": {},
   "outputs": [
    {
     "name": "stdout",
     "output_type": "stream",
     "text": [
      "not weired\n"
     ]
    }
   ],
   "source": [
    "n=int(input(\"enter the integer:\"))\n",
    "if   (n%2 == 1) or (n>6 and n<20):\n",
    "    print(\"Weird\")\n",
    "else:\n",
    "    print(\"not weired\")\n",
    "        "
   ]
  },
  {
   "cell_type": "markdown",
   "id": "6a238709",
   "metadata": {},
   "source": [
    "# 2nd question\n",
    "Import the list of length n from user, and square of each term and print."
   ]
  },
  {
   "cell_type": "code",
   "execution_count": 7,
   "id": "ae92e17b",
   "metadata": {},
   "outputs": [
    {
     "name": "stdout",
     "output_type": "stream",
     "text": [
      "enter the number7\n",
      "465\n",
      "46\n",
      "46\n",
      "46\n",
      "46\n",
      "46\n",
      "46\n",
      "[216225, 2116, 2116, 2116, 2116, 2116, 2116]\n"
     ]
    }
   ],
   "source": [
    "a=[]\n",
    "n=int(input(\"enter the number\"))\n",
    "for number in range(0,n):\n",
    "    b = int(input())\n",
    "    a.append(b**2)\n",
    "    \n",
    "    \n",
    "print(a)"
   ]
  },
  {
   "cell_type": "markdown",
   "id": "93038f6e",
   "metadata": {},
   "source": [
    "# 3rd\n",
    "Given the participants&#39; score sheet for your University Sports Day, you are required to\n",
    "find the runner-up score. You are given n scores. Store them in a list and find the\n",
    "score of the runner-up."
   ]
  },
  {
   "cell_type": "code",
   "execution_count": 1,
   "id": "5aabc3f2",
   "metadata": {},
   "outputs": [
    {
     "name": "stdout",
     "output_type": "stream",
     "text": [
      "77\n"
     ]
    }
   ],
   "source": [
    "cricket_scoresheet = [66,77,45,34,55,98]\n",
    "cricket_scoresheet.sort()\n",
    "runner_up = cricket_scoresheet[-2]\n",
    "print(runner_up)"
   ]
  },
  {
   "cell_type": "markdown",
   "id": "ef9f90de",
   "metadata": {},
   "source": [
    "# 4\n",
    "The provided code stub will read in a dictionary containing key/value pairs of name:\n",
    "[marks] for a list of students. Print the average of the marks array for the student name\n",
    "provided, showing 2 places after the decimal."
   ]
  },
  {
   "cell_type": "code",
   "execution_count": 59,
   "id": "a45a6406",
   "metadata": {},
   "outputs": [
    {
     "name": "stdout",
     "output_type": "stream",
     "text": [
      "47.83\n"
     ]
    }
   ],
   "source": [
    "students ={\n",
    "    \"riyan\":30,\n",
    "    \"rubin\":40,\n",
    "    \"john\":50,\n",
    "    \"rahul\":75,\n",
    "    \"stuti\":92\n",
    "    \n",
    "}\n",
    "\n",
    "a = (sum(students.values())/6)\n",
    "b = \"{:.2f}\".format(a)\n",
    "print(b)"
   ]
  },
  {
   "cell_type": "markdown",
   "id": "202796ae",
   "metadata": {},
   "source": [
    "# 5\n",
    " Take the paragraph form the wikipedia, and separate the paragraph into words and\n",
    "sentences."
   ]
  },
  {
   "cell_type": "code",
   "execution_count": 53,
   "id": "36c97826",
   "metadata": {},
   "outputs": [
    {
     "name": "stdout",
     "output_type": "stream",
     "text": [
      "['Computer', 'programming', 'the', 'process', 'of', 'performing', 'a', 'particular', 'computation', '(', 'more', 'generally,', 'accomplishing', 'a', 'specific', 'computing', 'result),', 'usually', 'by', 'designing', 'building', 'an', 'executable', 'computer', 'program.', 'Programming', 'involves', 'tasks', 'such', 'analysis,', 'generating', 'algorithms,', 'profiling', \"algorithms'\", 'accuracy', 'and', 'resource', 'consumption,', 'and', 'the', 'implementation', 'of', 'algorithms', '(usually', 'in', 'a', 'chosen', 'programming', 'language,', 'commonly', 'referred', 'to', 'as', 'coding)']\n"
     ]
    }
   ],
   "source": [
    "paragraph = (\"\"\"Computer programming  the process of performing a particular computation ( more generally, accomplishing a specific computing result), usually by designing  building an executable computer program. Programming involves tasks such  analysis, generating algorithms, profiling algorithms' accuracy and resource consumption, and the implementation of algorithms (usually in a chosen programming language, commonly referred to as coding)\"\"\")\n",
    "print(paragraph.split())"
   ]
  }
 ],
 "metadata": {
  "kernelspec": {
   "display_name": "Python 3.9.12 ('base')",
   "language": "python",
   "name": "python3"
  },
  "language_info": {
   "codemirror_mode": {
    "name": "ipython",
    "version": 3
   },
   "file_extension": ".py",
   "mimetype": "text/x-python",
   "name": "python",
   "nbconvert_exporter": "python",
   "pygments_lexer": "ipython3",
   "version": "3.9.12"
  },
  "vscode": {
   "interpreter": {
    "hash": "ad2bdc8ecc057115af97d19610ffacc2b4e99fae6737bb82f5d7fb13d2f2c186"
   }
  }
 },
 "nbformat": 4,
 "nbformat_minor": 5
}

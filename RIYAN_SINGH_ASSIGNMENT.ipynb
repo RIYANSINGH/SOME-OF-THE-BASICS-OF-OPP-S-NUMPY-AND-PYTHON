{
 "cells": [
  {
   "cell_type": "markdown",
   "id": "6273e9b6",
   "metadata": {},
   "source": [
    "# t test question 3 and 4"
   ]
  },
  {
   "cell_type": "code",
   "execution_count": null,
   "id": "068b9321",
   "metadata": {},
   "outputs": [],
   "source": [
    "import statistics"
   ]
  },
  {
   "cell_type": "code",
   "execution_count": null,
   "id": "06cbbff5",
   "metadata": {},
   "outputs": [],
   "source": [
    "import math"
   ]
  },
  {
   "cell_type": "code",
   "execution_count": null,
   "id": "ff359dee",
   "metadata": {},
   "outputs": [],
   "source": [
    "import numpy as np"
   ]
  },
  {
   "cell_type": "code",
   "execution_count": null,
   "id": "15d36db1",
   "metadata": {},
   "outputs": [],
   "source": [
    "import pandas as pd"
   ]
  },
  {
   "cell_type": "markdown",
   "id": "2d82973b",
   "metadata": {},
   "source": [
    "An online medicine shop claims that the mean delivery time for medicines is less\n",
    "than 120 minutes with a standard deviation of 30 minutes. Is there enough evidence to\n",
    "support this claim at a 0.05 significance level if 49 orders were examined with a mean of 100"
   ]
  },
  {
   "cell_type": "markdown",
   "id": "c8c4c048",
   "metadata": {},
   "source": [
    " # in these programs place the values given in question 3 and 4 to get the answer"
   ]
  },
  {
   "cell_type": "code",
   "execution_count": 14,
   "id": "d18a9dcf",
   "metadata": {},
   "outputs": [],
   "source": [
    "u=int(input())# enter the population mean given in the question"
   ]
  },
  {
   "cell_type": "code",
   "execution_count": 15,
   "id": "672c2b49",
   "metadata": {},
   "outputs": [],
   "source": [
    "#enter the sample numbers and the samples\n",
    "a=[]\n",
    "n=int(input(\"enter the number:\"))\n",
    "for number in range(0,n):\n",
    "    b = float(input())\n",
    "    a.append(b)\n"
   ]
  },
  {
   "cell_type": "code",
   "execution_count": 16,
   "id": "88238be2",
   "metadata": {},
   "outputs": [],
   "source": [
    "x=np.sum(a)#summing the samples"
   ]
  },
  {
   "cell_type": "code",
   "execution_count": 17,
   "id": "4480192d",
   "metadata": {},
   "outputs": [
    {
     "data": {
      "text/plain": [
       "1845.0"
      ]
     },
     "execution_count": 17,
     "metadata": {},
     "output_type": "execute_result"
    }
   ],
   "source": [
    "x"
   ]
  },
  {
   "cell_type": "code",
   "execution_count": 18,
   "id": "d195b8bf",
   "metadata": {},
   "outputs": [],
   "source": [
    "minm=np.mean(a)#calculating the mean "
   ]
  },
  {
   "cell_type": "code",
   "execution_count": 19,
   "id": "541b24ce",
   "metadata": {},
   "outputs": [
    {
     "data": {
      "text/plain": [
       "123.0"
      ]
     },
     "execution_count": 19,
     "metadata": {},
     "output_type": "execute_result"
    }
   ],
   "source": [
    "minm"
   ]
  },
  {
   "cell_type": "code",
   "execution_count": 20,
   "id": "05e446be",
   "metadata": {},
   "outputs": [],
   "source": [
    "r=len(a)#calculating the length of samples"
   ]
  },
  {
   "cell_type": "code",
   "execution_count": 21,
   "id": "d1c3d6d1",
   "metadata": {},
   "outputs": [
    {
     "data": {
      "text/plain": [
       "15"
      ]
     },
     "execution_count": 21,
     "metadata": {},
     "output_type": "execute_result"
    }
   ],
   "source": [
    "r"
   ]
  },
  {
   "cell_type": "code",
   "execution_count": 22,
   "id": "d3b0ec4d",
   "metadata": {},
   "outputs": [],
   "source": [
    "rut=math. sqrt(r)# doing the root of number of samples"
   ]
  },
  {
   "cell_type": "code",
   "execution_count": 23,
   "id": "0b95f17d",
   "metadata": {},
   "outputs": [
    {
     "data": {
      "text/plain": [
       "3.872983346207417"
      ]
     },
     "execution_count": 23,
     "metadata": {},
     "output_type": "execute_result"
    }
   ],
   "source": [
    "rut"
   ]
  },
  {
   "cell_type": "code",
   "execution_count": 24,
   "id": "4c46929a",
   "metadata": {},
   "outputs": [],
   "source": [
    "sd=statistics.stdev(a)#standard deviatiion of the population"
   ]
  },
  {
   "cell_type": "code",
   "execution_count": 25,
   "id": "d4a702dd",
   "metadata": {},
   "outputs": [
    {
     "data": {
      "text/plain": [
       "7.329003050503235"
      ]
     },
     "execution_count": 25,
     "metadata": {},
     "output_type": "execute_result"
    }
   ],
   "source": [
    "sd"
   ]
  },
  {
   "cell_type": "code",
   "execution_count": 26,
   "id": "e3620f2e",
   "metadata": {},
   "outputs": [],
   "source": [
    "up=minm-u#up is the upper calculation of the t test formula"
   ]
  },
  {
   "cell_type": "code",
   "execution_count": 27,
   "id": "c981732d",
   "metadata": {},
   "outputs": [
    {
     "data": {
      "text/plain": [
       "3.0"
      ]
     },
     "execution_count": 27,
     "metadata": {},
     "output_type": "execute_result"
    }
   ],
   "source": [
    "up"
   ]
  },
  {
   "cell_type": "code",
   "execution_count": 28,
   "id": "b2e8565b",
   "metadata": {},
   "outputs": [],
   "source": [
    "t=(up/sd)*rut#substituting the values "
   ]
  },
  {
   "cell_type": "code",
   "execution_count": 29,
   "id": "089aa856",
   "metadata": {},
   "outputs": [
    {
     "name": "stdout",
     "output_type": "stream",
     "text": [
      "1.585338409406782\n"
     ]
    }
   ],
   "source": [
    "print(t)"
   ]
  },
  {
   "cell_type": "code",
   "execution_count": 31,
   "id": "a41aa4ae",
   "metadata": {},
   "outputs": [],
   "source": [
    "T=float(input(\"enter the value of confidence level:\"))"
   ]
  },
  {
   "cell_type": "code",
   "execution_count": 32,
   "id": "d4928140",
   "metadata": {},
   "outputs": [
    {
     "name": "stdout",
     "output_type": "stream",
     "text": [
      "the null hypothesis is rejected\n"
     ]
    }
   ],
   "source": [
    "if (-T<t<T):\n",
    "    print(\"the null hypothesis is accepted\")\n",
    "else:\n",
    "        print(\"the null hypothesis is rejected\")"
   ]
  },
  {
   "cell_type": "markdown",
   "id": "6c95e8d9",
   "metadata": {},
   "source": [
    "Q1 A teacher claims that the mean score of students in his class is greater than 82\n",
    "with a standard deviation of 20. If a sample of 81 students was selected with a mean score of\n",
    "90 then check if there is enough evidence to support this claim at a 0.05 significance level."
   ]
  },
  {
   "cell_type": "markdown",
   "id": "f8f010e7",
   "metadata": {},
   "source": [
    "Q2 An online medicine shop claims that the mean delivery time for medicines is less\n",
    "than 120 minutes with a standard deviation of 30 minutes. Is there enough evidence to\n",
    "support this claim at a 0.05 significance level if 49 orders were examined with a mean of 100"
   ]
  },
  {
   "cell_type": "markdown",
   "id": "430a458a",
   "metadata": {},
   "source": []
  },
  {
   "cell_type": "markdown",
   "id": "296d6eed",
   "metadata": {},
   "source": [
    "# SAME Question no 1 and 2"
   ]
  },
  {
   "cell_type": "markdown",
   "id": "5e41ede2",
   "metadata": {},
   "source": [
    "# z test(when population mean , population standard deviation is given,no of samples is given,mean of the sample)"
   ]
  },
  {
   "cell_type": "markdown",
   "id": "f6a458d5",
   "metadata": {},
   "source": [
    "H0:u=82\n",
    "H1:u>=82"
   ]
  },
  {
   "cell_type": "code",
   "execution_count": null,
   "id": "e688814a",
   "metadata": {},
   "outputs": [],
   "source": [
    "u=int(input(\"enter the mean of the population: \"))\n",
    "sd = int(input(\"enter the standard deviation of the population: \"))\n",
    "n=int(input(\"enter the no the samples: \"))\n",
    "x=int(input(\"enter the mean of the sampler:\"))"
   ]
  },
  {
   "cell_type": "code",
   "execution_count": null,
   "id": "a319b89b",
   "metadata": {},
   "outputs": [],
   "source": [
    "n2=math. sqrt(n)"
   ]
  },
  {
   "cell_type": "code",
   "execution_count": null,
   "id": "44ff5a99",
   "metadata": {},
   "outputs": [],
   "source": [
    "n2"
   ]
  },
  {
   "cell_type": "code",
   "execution_count": null,
   "id": "27feb1da",
   "metadata": {},
   "outputs": [],
   "source": [
    "sdx=sd/n2"
   ]
  },
  {
   "cell_type": "code",
   "execution_count": null,
   "id": "8e0e4b25",
   "metadata": {},
   "outputs": [],
   "source": [
    "sdx"
   ]
  },
  {
   "cell_type": "code",
   "execution_count": null,
   "id": "59387d7a",
   "metadata": {},
   "outputs": [],
   "source": [
    "z=(x-u)/sdx"
   ]
  },
  {
   "cell_type": "code",
   "execution_count": null,
   "id": "834f53c7",
   "metadata": {},
   "outputs": [],
   "source": [
    "z"
   ]
  },
  {
   "cell_type": "code",
   "execution_count": null,
   "id": "6b6c17c1",
   "metadata": {},
   "outputs": [],
   "source": [
    "Z=float(input(\"enter the value of confidence level:\"))"
   ]
  },
  {
   "cell_type": "code",
   "execution_count": null,
   "id": "b9f68913",
   "metadata": {},
   "outputs": [],
   "source": [
    "if (-Z<z<Z):\n",
    "    print(\"the null hypothesis is accepted\")\n",
    "else:\n",
    "        print(\"the null hypothesis is rejected\")"
   ]
  },
  {
   "cell_type": "markdown",
   "id": "2f075939",
   "metadata": {},
   "source": [
    "# question no 5"
   ]
  },
  {
   "cell_type": "markdown",
   "id": "a6130ee6",
   "metadata": {},
   "source": [
    "Smartwatch manufacturer received customer complaints about the XYZ model,\n",
    "whose battery lasts a shorter time than the previous model. The variance of the battery life of\n",
    "the previous model is 49 hours. 11 watches were tested, and the battery life standard\n",
    "deviation was 9 hours. Assuming that the data are normally distributed, Could the claim\n",
    "about increase in performance of the new model be validated with 5% significance level?"
   ]
  },
  {
   "cell_type": "markdown",
   "id": "21793a3b",
   "metadata": {},
   "source": [
    "# in this program place the values given in the question to get the answer"
   ]
  },
  {
   "cell_type": "code",
   "execution_count": null,
   "id": "c45dc7c3",
   "metadata": {},
   "outputs": [],
   "source": [
    "sd2=int(input(\"enter  varience of the population:\"))\n",
    "s=int (input(\"enter the standard deviation of the sample:\"))\n",
    "n=int (input(\"enter the number of samples:\"))"
   ]
  },
  {
   "cell_type": "code",
   "execution_count": null,
   "id": "8373a433",
   "metadata": {},
   "outputs": [],
   "source": [
    "a=n-1"
   ]
  },
  {
   "cell_type": "code",
   "execution_count": null,
   "id": "8b1fc537",
   "metadata": {},
   "outputs": [],
   "source": [
    "x2=a*(s**2)/sd2"
   ]
  },
  {
   "cell_type": "code",
   "execution_count": null,
   "id": "71b21dff",
   "metadata": {},
   "outputs": [],
   "source": [
    "x2"
   ]
  },
  {
   "cell_type": "code",
   "execution_count": null,
   "id": "a1c171ac",
   "metadata": {},
   "outputs": [],
   "source": [
    "c=float(input(\"enter the critical value at you want:\"))"
   ]
  },
  {
   "cell_type": "code",
   "execution_count": null,
   "id": "c9c6cc67",
   "metadata": {},
   "outputs": [],
   "source": [
    "if x2<c:\n",
    "    print(\"we accept the null hypthesis \")\n",
    "else:\n",
    "        print(\"we reject the null hypothesis\")"
   ]
  },
  {
   "cell_type": "markdown",
   "id": "c073c204",
   "metadata": {},
   "source": [
    "one way anova test is used in this question \n",
    "you can change the values as per the question"
   ]
  },
  {
   "cell_type": "markdown",
   "id": "d9f83fb5",
   "metadata": {},
   "source": [
    "# question 7\n",
    "Three types of fertilizers are used on three groups of plants for 5 weeks. We want\n",
    "to check if there is a difference in the mean growth of each group. Using the data given below\n",
    "apply a one-way ANOVA test at 0.05 significant level."
   ]
  },
  {
   "cell_type": "code",
   "execution_count": null,
   "id": "f77fde60",
   "metadata": {},
   "outputs": [],
   "source": [
    "Fertilizer1 = [6,8,4,5,3,4]\n",
    "Fertilizer2 = [8,12,9,11,6,8]\n",
    "Fertilizer3 = [13,9,11,8,7,12]\n",
    "#Sum of the values\n",
    "total = sum(Fertilizer1)\n",
    "print(f\"Sum of the fertilizer 1 is: {total}\")\n",
    "total = sum(Fertilizer2)\n",
    "print(f\"Sum of the fertilizer 2 is: {total}\")\n",
    "total = sum(Fertilizer3)\n",
    "print(f\"Sum of the fertilizer 3 is: {total}\")\n",
    "Mean1 = np.mean(Fertilizer1)\n",
    "print(f\"Mean of first fertilizer: {Mean1}\")\n",
    "Mean2 = np.mean(Fertilizer2)\n",
    "print(f\"Mean of second fertilizer: {Mean2}\")\n",
    "Mean3 = np.mean(Fertilizer3)\n",
    "print(f\"Mean of third fertilizer: {Mean3}\")\n",
    "a = [Mean1,Mean2,Mean3]\n",
    "print(a)\n",
    "add = sum(a)\n",
    "print(f\"Total Sum is: {add}\")\n",
    "b = len(a)\n",
    "print(b)\n",
    "Total_Mean = add / b\n",
    "print(f\"The total mean is: {Total_Mean}\")\n",
    "#n is the number of inputs\n",
    "#k is the number of populations \n",
    "#N is the total number of observations (N = n1 + n2+…+ nk)\n",
    "#Sum of squares between groups[SSB]\n",
    "#Sum of squares of errors[SSE]\n",
    "\n",
    "n = 6\n",
    "K = 3\n",
    "N = 18 \n",
    "#for calculating the value of ssb\n",
    "c=0\n",
    "for value in a:\n",
    "    c =  c+np.power((value-Total_Mean),2)\n",
    "SSB=n*c\n",
    "print(c)\n",
    "print(f'Sum of b: {SSB}')\n",
    "#for calculating the value of sse\n",
    "#c=0\n",
    "#for value in a:\n",
    " #   c =  c+np.power((value-totalMean),2)\n",
    "#SSE=n*c\n",
    "#print(c)\n",
    "\n",
    "df1 = K-1\n",
    "df2 = N-K\n",
    "MSB = SSB/df1\n",
    "print(f\"MSB Value: {MSB}\")\n",
    "#MSE = SSE/df2\n",
    "#f = MSB/MSE\n",
    "#print(f\"Statistic value of ANOVA Test: {f}\")\n",
    "#using f-table \n",
    "F = 3.68 # when alpha is 0.05 [0.05,2,15]\n",
    "print(f\"Critical value: {F}\")\n",
    "#if f < F :\n",
    "   # print(\"Accept the Null Hypothesis\")\n",
    "#else :\n",
    "   # print(\"Reject the Null Hypothesis\")"
   ]
  },
  {
   "cell_type": "markdown",
   "id": "2c29e5ee",
   "metadata": {},
   "source": [
    "# 6th question\n",
    "1000 middle school students are asked which their favourite superhero is:\n",
    "Superman, Ironman or Spiderman. At 95% confidence level would you conclude is there any\n",
    "relationship between gender and superhero characters?"
   ]
  },
  {
   "cell_type": "code",
   "execution_count": null,
   "id": "e0bea33f",
   "metadata": {},
   "outputs": [],
   "source": [
    "df = pd.DataFrame(np.random.randn(2,3),index = ['Boys','Girls'], columns = ['Superman','Ironman','Spiderman'])\n",
    "Superman=df[\"Superman\"] = [120,80] \n",
    "Ironman=df[\"Ironman\"] = [250,120] \n",
    "Spiderman=df[\"Spiderman\"] = [230,200] \n",
    "df"
   ]
  },
  {
   "cell_type": "code",
   "execution_count": null,
   "id": "eee184c5",
   "metadata": {},
   "outputs": [],
   "source": [
    "r,c=df.shape\n",
    "for i in range(r):\n",
    "    for j in range(c):\n",
    "        print(df.iloc[i][j])"
   ]
  },
  {
   "cell_type": "code",
   "execution_count": null,
   "id": "8175edf3",
   "metadata": {},
   "outputs": [],
   "source": [
    "r,c=df.shape\n",
    "for i in range(0,r-1):\n",
    "    for j in range(0,c-1):\n",
    "        print(df.iloc[i][j])"
   ]
  },
  {
   "cell_type": "code",
   "execution_count": null,
   "id": "9bd32be2",
   "metadata": {},
   "outputs": [],
   "source": [
    "df.sum(axis=1)"
   ]
  },
  {
   "cell_type": "code",
   "execution_count": null,
   "id": "f6957ba6",
   "metadata": {},
   "outputs": [],
   "source": [
    "df['Total']=df.sum(axis=1)"
   ]
  },
  {
   "cell_type": "code",
   "execution_count": null,
   "id": "bdef9b06",
   "metadata": {},
   "outputs": [],
   "source": [
    "df.loc['Total_c']=df.sum(axis=0)"
   ]
  },
  {
   "cell_type": "code",
   "execution_count": null,
   "id": "8323beae",
   "metadata": {},
   "outputs": [],
   "source": [
    "Boystotal=Superman[0]+Spiderman[0]+Ironman[0]\n",
    "Boystotal"
   ]
  },
  {
   "cell_type": "code",
   "execution_count": null,
   "id": "9ac246ce",
   "metadata": {},
   "outputs": [],
   "source": [
    "Girlstotal=Superman[1]+Spiderman[1]+Ironman[1]\n",
    "Girlstotal"
   ]
  },
  {
   "cell_type": "code",
   "execution_count": null,
   "id": "36e5155d",
   "metadata": {},
   "outputs": [],
   "source": [
    "df2 = pd.DataFrame(np.random.randn(2,3),index = ['Boys','Girls'], columns = ['Superman','Ironman','Spiderman'])\n",
    "df2[\"Superman\"]=[a0*Boystotal/a,a0*Girlstotal/a]\n",
    "df2[\"Ironman\"] = [a1*Boystotal/a,a1*Girlstotal/a] \n",
    "df2[\"Spiderman\"] = [a2*Boystotal/a,a2*Girlstotal/a] "
   ]
  },
  {
   "cell_type": "code",
   "execution_count": null,
   "id": "338b68be",
   "metadata": {},
   "outputs": [],
   "source": [
    "c=list(df2.Superman),list(df2.Ironman),list(df2.Spiderman)"
   ]
  },
  {
   "cell_type": "code",
   "execution_count": null,
   "id": "fc642f9e",
   "metadata": {},
   "outputs": [],
   "source": [
    "r = len(df.axes[0])\n",
    "print(f\"Number of Rows:{r}\")\n",
    "c = len(df.columns)\n",
    "print(f\"Number of Columns:{c}\")\n",
    "degree_of_freedom = (r-1)*(c-1)\n",
    "print(f\"Degree of Freedom:{degree_of_freedom}\")"
   ]
  },
  {
   "cell_type": "code",
   "execution_count": null,
   "id": "94361f9e",
   "metadata": {},
   "outputs": [],
   "source": [
    "cv = 2\n",
    "print(f\"Calculated Value: {cv}\")\n",
    "#critical value at alpha(significance level 0.05)= 5.991\n",
    "print(f\"Critical Value: {5.991}\")\n",
    "if cv < 5.991 :\n",
    "    print(\"Accept the Null Hypothesis\")\n",
    "else :\n",
    "    print(\"Reject the Null Hypothesis\")\n",
    "    print(\"Thereby concluding that there is a significant association between the gender and the superhero characters\")"
   ]
  },
  {
   "cell_type": "code",
   "execution_count": null,
   "id": "7b2de284",
   "metadata": {},
   "outputs": [],
   "source": []
  }
 ],
 "metadata": {
  "kernelspec": {
   "display_name": "Python 3.9.12 ('base')",
   "language": "python",
   "name": "python3"
  },
  "language_info": {
   "codemirror_mode": {
    "name": "ipython",
    "version": 3
   },
   "file_extension": ".py",
   "mimetype": "text/x-python",
   "name": "python",
   "nbconvert_exporter": "python",
   "pygments_lexer": "ipython3",
   "version": "3.9.12"
  },
  "vscode": {
   "interpreter": {
    "hash": "ad2bdc8ecc057115af97d19610ffacc2b4e99fae6737bb82f5d7fb13d2f2c186"
   }
  }
 },
 "nbformat": 4,
 "nbformat_minor": 5
}

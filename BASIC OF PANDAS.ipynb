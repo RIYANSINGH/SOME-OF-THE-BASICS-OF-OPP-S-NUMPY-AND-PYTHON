{
 "cells": [
  {
   "cell_type": "code",
   "execution_count": 1,
   "id": "f33c437b",
   "metadata": {},
   "outputs": [],
   "source": [
    "import pandas as pd"
   ]
  },
  {
   "cell_type": "code",
   "execution_count": 2,
   "id": "3112f307",
   "metadata": {},
   "outputs": [],
   "source": [
    "import numpy as np"
   ]
  },
  {
   "cell_type": "code",
   "execution_count": null,
   "id": "52c78d90",
   "metadata": {},
   "outputs": [],
   "source": [
    "df=pd.DataFrame({'A': [1, 2, 3],\n",
    "                'v' : [4,5,7,]})"
   ]
  },
  {
   "cell_type": "code",
   "execution_count": null,
   "id": "e77c1190",
   "metadata": {},
   "outputs": [],
   "source": [
    "df"
   ]
  },
  {
   "cell_type": "code",
   "execution_count": null,
   "id": "1aef0b2f",
   "metadata": {},
   "outputs": [],
   "source": [
    "df= pd.Series([1,4,6,4,np.nan,5,7])"
   ]
  },
  {
   "cell_type": "code",
   "execution_count": null,
   "id": "b14f0ccf",
   "metadata": {},
   "outputs": [],
   "source": [
    "df"
   ]
  },
  {
   "cell_type": "code",
   "execution_count": 5,
   "id": "31fa0fa4",
   "metadata": {},
   "outputs": [],
   "source": [
    "dates=pd.date_range('20000520', periods=10)"
   ]
  },
  {
   "cell_type": "markdown",
   "id": "4c5b1580",
   "metadata": {},
   "source": [
    "### "
   ]
  },
  {
   "cell_type": "code",
   "execution_count": 6,
   "id": "8599bcba",
   "metadata": {},
   "outputs": [
    {
     "data": {
      "text/plain": [
       "DatetimeIndex(['2000-05-20', '2000-05-21', '2000-05-22', '2000-05-23',\n",
       "               '2000-05-24', '2000-05-25', '2000-05-26', '2000-05-27',\n",
       "               '2000-05-28', '2000-05-29'],\n",
       "              dtype='datetime64[ns]', freq='D')"
      ]
     },
     "execution_count": 6,
     "metadata": {},
     "output_type": "execute_result"
    }
   ],
   "source": [
    "dates"
   ]
  },
  {
   "cell_type": "code",
   "execution_count": 7,
   "id": "ea76e9a8",
   "metadata": {},
   "outputs": [],
   "source": [
    "df3=pd.DataFrame(np.random.randn(10,5), index=dates,columns=list('ABCDE'))"
   ]
  },
  {
   "cell_type": "code",
   "execution_count": 8,
   "id": "ac450966",
   "metadata": {},
   "outputs": [
    {
     "data": {
      "text/html": [
       "<div>\n",
       "<style scoped>\n",
       "    .dataframe tbody tr th:only-of-type {\n",
       "        vertical-align: middle;\n",
       "    }\n",
       "\n",
       "    .dataframe tbody tr th {\n",
       "        vertical-align: top;\n",
       "    }\n",
       "\n",
       "    .dataframe thead th {\n",
       "        text-align: right;\n",
       "    }\n",
       "</style>\n",
       "<table border=\"1\" class=\"dataframe\">\n",
       "  <thead>\n",
       "    <tr style=\"text-align: right;\">\n",
       "      <th></th>\n",
       "      <th>A</th>\n",
       "      <th>B</th>\n",
       "      <th>C</th>\n",
       "      <th>D</th>\n",
       "      <th>E</th>\n",
       "    </tr>\n",
       "  </thead>\n",
       "  <tbody>\n",
       "    <tr>\n",
       "      <th>2000-05-20</th>\n",
       "      <td>-1.326728</td>\n",
       "      <td>0.270480</td>\n",
       "      <td>-0.298401</td>\n",
       "      <td>-0.366397</td>\n",
       "      <td>-0.317380</td>\n",
       "    </tr>\n",
       "    <tr>\n",
       "      <th>2000-05-21</th>\n",
       "      <td>0.300610</td>\n",
       "      <td>0.228423</td>\n",
       "      <td>-1.720294</td>\n",
       "      <td>0.086436</td>\n",
       "      <td>1.097898</td>\n",
       "    </tr>\n",
       "    <tr>\n",
       "      <th>2000-05-22</th>\n",
       "      <td>0.320990</td>\n",
       "      <td>-0.605087</td>\n",
       "      <td>-0.952158</td>\n",
       "      <td>1.808060</td>\n",
       "      <td>2.171840</td>\n",
       "    </tr>\n",
       "    <tr>\n",
       "      <th>2000-05-23</th>\n",
       "      <td>0.513012</td>\n",
       "      <td>-1.688942</td>\n",
       "      <td>1.795829</td>\n",
       "      <td>0.413630</td>\n",
       "      <td>1.156678</td>\n",
       "    </tr>\n",
       "    <tr>\n",
       "      <th>2000-05-24</th>\n",
       "      <td>-0.275238</td>\n",
       "      <td>-2.087618</td>\n",
       "      <td>-0.123402</td>\n",
       "      <td>-0.357056</td>\n",
       "      <td>0.446195</td>\n",
       "    </tr>\n",
       "    <tr>\n",
       "      <th>2000-05-25</th>\n",
       "      <td>1.043232</td>\n",
       "      <td>0.447263</td>\n",
       "      <td>-0.982666</td>\n",
       "      <td>0.977227</td>\n",
       "      <td>-0.019804</td>\n",
       "    </tr>\n",
       "    <tr>\n",
       "      <th>2000-05-26</th>\n",
       "      <td>0.130816</td>\n",
       "      <td>0.631851</td>\n",
       "      <td>1.214709</td>\n",
       "      <td>-1.672795</td>\n",
       "      <td>-0.327133</td>\n",
       "    </tr>\n",
       "    <tr>\n",
       "      <th>2000-05-27</th>\n",
       "      <td>2.186614</td>\n",
       "      <td>0.569907</td>\n",
       "      <td>-0.257918</td>\n",
       "      <td>-1.190969</td>\n",
       "      <td>0.595678</td>\n",
       "    </tr>\n",
       "    <tr>\n",
       "      <th>2000-05-28</th>\n",
       "      <td>0.882515</td>\n",
       "      <td>0.437687</td>\n",
       "      <td>-0.215614</td>\n",
       "      <td>-1.130975</td>\n",
       "      <td>-1.229176</td>\n",
       "    </tr>\n",
       "    <tr>\n",
       "      <th>2000-05-29</th>\n",
       "      <td>-0.288368</td>\n",
       "      <td>1.516322</td>\n",
       "      <td>1.505156</td>\n",
       "      <td>0.835170</td>\n",
       "      <td>0.485990</td>\n",
       "    </tr>\n",
       "  </tbody>\n",
       "</table>\n",
       "</div>"
      ],
      "text/plain": [
       "                   A         B         C         D         E\n",
       "2000-05-20 -1.326728  0.270480 -0.298401 -0.366397 -0.317380\n",
       "2000-05-21  0.300610  0.228423 -1.720294  0.086436  1.097898\n",
       "2000-05-22  0.320990 -0.605087 -0.952158  1.808060  2.171840\n",
       "2000-05-23  0.513012 -1.688942  1.795829  0.413630  1.156678\n",
       "2000-05-24 -0.275238 -2.087618 -0.123402 -0.357056  0.446195\n",
       "2000-05-25  1.043232  0.447263 -0.982666  0.977227 -0.019804\n",
       "2000-05-26  0.130816  0.631851  1.214709 -1.672795 -0.327133\n",
       "2000-05-27  2.186614  0.569907 -0.257918 -1.190969  0.595678\n",
       "2000-05-28  0.882515  0.437687 -0.215614 -1.130975 -1.229176\n",
       "2000-05-29 -0.288368  1.516322  1.505156  0.835170  0.485990"
      ]
     },
     "execution_count": 8,
     "metadata": {},
     "output_type": "execute_result"
    }
   ],
   "source": [
    "df3"
   ]
  },
  {
   "cell_type": "code",
   "execution_count": 9,
   "id": "57c5696a",
   "metadata": {},
   "outputs": [],
   "source": [
    "df4=pd.DataFrame({ \"A\": 1.0,\n",
    "        \"B\": pd.Timestamp('20000520'),\n",
    "        \"C\": pd.Series(1, index=list(range(4)), dtype=\"float32\"),\n",
    "        \"D\": np.array([3] * 4, dtype=\"int32\"),\n",
    "        \"E\": pd.Categorical([\"test\", \"train\", \"test\", \"train\"]),\n",
    "        \"F\": \"foo\",})"
   ]
  },
  {
   "cell_type": "code",
   "execution_count": 10,
   "id": "dcf53d81",
   "metadata": {},
   "outputs": [
    {
     "data": {
      "text/html": [
       "<div>\n",
       "<style scoped>\n",
       "    .dataframe tbody tr th:only-of-type {\n",
       "        vertical-align: middle;\n",
       "    }\n",
       "\n",
       "    .dataframe tbody tr th {\n",
       "        vertical-align: top;\n",
       "    }\n",
       "\n",
       "    .dataframe thead th {\n",
       "        text-align: right;\n",
       "    }\n",
       "</style>\n",
       "<table border=\"1\" class=\"dataframe\">\n",
       "  <thead>\n",
       "    <tr style=\"text-align: right;\">\n",
       "      <th></th>\n",
       "      <th>A</th>\n",
       "      <th>B</th>\n",
       "      <th>C</th>\n",
       "      <th>D</th>\n",
       "      <th>E</th>\n",
       "      <th>F</th>\n",
       "    </tr>\n",
       "  </thead>\n",
       "  <tbody>\n",
       "    <tr>\n",
       "      <th>0</th>\n",
       "      <td>1.0</td>\n",
       "      <td>2000-05-20</td>\n",
       "      <td>1.0</td>\n",
       "      <td>3</td>\n",
       "      <td>test</td>\n",
       "      <td>foo</td>\n",
       "    </tr>\n",
       "    <tr>\n",
       "      <th>1</th>\n",
       "      <td>1.0</td>\n",
       "      <td>2000-05-20</td>\n",
       "      <td>1.0</td>\n",
       "      <td>3</td>\n",
       "      <td>train</td>\n",
       "      <td>foo</td>\n",
       "    </tr>\n",
       "    <tr>\n",
       "      <th>2</th>\n",
       "      <td>1.0</td>\n",
       "      <td>2000-05-20</td>\n",
       "      <td>1.0</td>\n",
       "      <td>3</td>\n",
       "      <td>test</td>\n",
       "      <td>foo</td>\n",
       "    </tr>\n",
       "    <tr>\n",
       "      <th>3</th>\n",
       "      <td>1.0</td>\n",
       "      <td>2000-05-20</td>\n",
       "      <td>1.0</td>\n",
       "      <td>3</td>\n",
       "      <td>train</td>\n",
       "      <td>foo</td>\n",
       "    </tr>\n",
       "  </tbody>\n",
       "</table>\n",
       "</div>"
      ],
      "text/plain": [
       "     A          B    C  D      E    F\n",
       "0  1.0 2000-05-20  1.0  3   test  foo\n",
       "1  1.0 2000-05-20  1.0  3  train  foo\n",
       "2  1.0 2000-05-20  1.0  3   test  foo\n",
       "3  1.0 2000-05-20  1.0  3  train  foo"
      ]
     },
     "execution_count": 10,
     "metadata": {},
     "output_type": "execute_result"
    }
   ],
   "source": [
    "df4"
   ]
  },
  {
   "cell_type": "code",
   "execution_count": 11,
   "id": "6556b2c2",
   "metadata": {},
   "outputs": [
    {
     "data": {
      "text/html": [
       "<div>\n",
       "<style scoped>\n",
       "    .dataframe tbody tr th:only-of-type {\n",
       "        vertical-align: middle;\n",
       "    }\n",
       "\n",
       "    .dataframe tbody tr th {\n",
       "        vertical-align: top;\n",
       "    }\n",
       "\n",
       "    .dataframe thead th {\n",
       "        text-align: right;\n",
       "    }\n",
       "</style>\n",
       "<table border=\"1\" class=\"dataframe\">\n",
       "  <thead>\n",
       "    <tr style=\"text-align: right;\">\n",
       "      <th></th>\n",
       "      <th>A</th>\n",
       "      <th>B</th>\n",
       "      <th>C</th>\n",
       "      <th>D</th>\n",
       "      <th>E</th>\n",
       "    </tr>\n",
       "  </thead>\n",
       "  <tbody>\n",
       "    <tr>\n",
       "      <th>2000-05-20</th>\n",
       "      <td>-1.326728</td>\n",
       "      <td>0.270480</td>\n",
       "      <td>-0.298401</td>\n",
       "      <td>-0.366397</td>\n",
       "      <td>-0.317380</td>\n",
       "    </tr>\n",
       "    <tr>\n",
       "      <th>2000-05-21</th>\n",
       "      <td>0.300610</td>\n",
       "      <td>0.228423</td>\n",
       "      <td>-1.720294</td>\n",
       "      <td>0.086436</td>\n",
       "      <td>1.097898</td>\n",
       "    </tr>\n",
       "    <tr>\n",
       "      <th>2000-05-22</th>\n",
       "      <td>0.320990</td>\n",
       "      <td>-0.605087</td>\n",
       "      <td>-0.952158</td>\n",
       "      <td>1.808060</td>\n",
       "      <td>2.171840</td>\n",
       "    </tr>\n",
       "    <tr>\n",
       "      <th>2000-05-23</th>\n",
       "      <td>0.513012</td>\n",
       "      <td>-1.688942</td>\n",
       "      <td>1.795829</td>\n",
       "      <td>0.413630</td>\n",
       "      <td>1.156678</td>\n",
       "    </tr>\n",
       "    <tr>\n",
       "      <th>2000-05-24</th>\n",
       "      <td>-0.275238</td>\n",
       "      <td>-2.087618</td>\n",
       "      <td>-0.123402</td>\n",
       "      <td>-0.357056</td>\n",
       "      <td>0.446195</td>\n",
       "    </tr>\n",
       "  </tbody>\n",
       "</table>\n",
       "</div>"
      ],
      "text/plain": [
       "                   A         B         C         D         E\n",
       "2000-05-20 -1.326728  0.270480 -0.298401 -0.366397 -0.317380\n",
       "2000-05-21  0.300610  0.228423 -1.720294  0.086436  1.097898\n",
       "2000-05-22  0.320990 -0.605087 -0.952158  1.808060  2.171840\n",
       "2000-05-23  0.513012 -1.688942  1.795829  0.413630  1.156678\n",
       "2000-05-24 -0.275238 -2.087618 -0.123402 -0.357056  0.446195"
      ]
     },
     "execution_count": 11,
     "metadata": {},
     "output_type": "execute_result"
    }
   ],
   "source": [
    "df3.head()"
   ]
  },
  {
   "cell_type": "code",
   "execution_count": 12,
   "id": "40a6ec03",
   "metadata": {},
   "outputs": [
    {
     "data": {
      "text/plain": [
       "array([[1.0, Timestamp('2000-05-20 00:00:00'), 1.0, 3, 'test', 'foo'],\n",
       "       [1.0, Timestamp('2000-05-20 00:00:00'), 1.0, 3, 'train', 'foo'],\n",
       "       [1.0, Timestamp('2000-05-20 00:00:00'), 1.0, 3, 'test', 'foo'],\n",
       "       [1.0, Timestamp('2000-05-20 00:00:00'), 1.0, 3, 'train', 'foo']],\n",
       "      dtype=object)"
      ]
     },
     "execution_count": 12,
     "metadata": {},
     "output_type": "execute_result"
    }
   ],
   "source": [
    "df4.to_numpy()"
   ]
  },
  {
   "cell_type": "code",
   "execution_count": 13,
   "id": "c93ea842",
   "metadata": {},
   "outputs": [
    {
     "data": {
      "text/plain": [
       "A    0.310800\n",
       "B    0.354083\n",
       "C   -0.236766\n",
       "D   -0.135310\n",
       "E    0.466093\n",
       "dtype: float64"
      ]
     },
     "execution_count": 13,
     "metadata": {},
     "output_type": "execute_result"
    }
   ],
   "source": [
    "df3.median()"
   ]
  },
  {
   "cell_type": "code",
   "execution_count": 14,
   "id": "a8c68aeb",
   "metadata": {},
   "outputs": [
    {
     "data": {
      "text/html": [
       "<div>\n",
       "<style scoped>\n",
       "    .dataframe tbody tr th:only-of-type {\n",
       "        vertical-align: middle;\n",
       "    }\n",
       "\n",
       "    .dataframe tbody tr th {\n",
       "        vertical-align: top;\n",
       "    }\n",
       "\n",
       "    .dataframe thead th {\n",
       "        text-align: right;\n",
       "    }\n",
       "</style>\n",
       "<table border=\"1\" class=\"dataframe\">\n",
       "  <thead>\n",
       "    <tr style=\"text-align: right;\">\n",
       "      <th></th>\n",
       "      <th>2000-05-20</th>\n",
       "      <th>2000-05-21</th>\n",
       "      <th>2000-05-22</th>\n",
       "      <th>2000-05-23</th>\n",
       "      <th>2000-05-24</th>\n",
       "      <th>2000-05-25</th>\n",
       "      <th>2000-05-26</th>\n",
       "      <th>2000-05-27</th>\n",
       "      <th>2000-05-28</th>\n",
       "      <th>2000-05-29</th>\n",
       "    </tr>\n",
       "  </thead>\n",
       "  <tbody>\n",
       "    <tr>\n",
       "      <th>A</th>\n",
       "      <td>-1.326728</td>\n",
       "      <td>0.300610</td>\n",
       "      <td>0.320990</td>\n",
       "      <td>0.513012</td>\n",
       "      <td>-0.275238</td>\n",
       "      <td>1.043232</td>\n",
       "      <td>0.130816</td>\n",
       "      <td>2.186614</td>\n",
       "      <td>0.882515</td>\n",
       "      <td>-0.288368</td>\n",
       "    </tr>\n",
       "    <tr>\n",
       "      <th>B</th>\n",
       "      <td>0.270480</td>\n",
       "      <td>0.228423</td>\n",
       "      <td>-0.605087</td>\n",
       "      <td>-1.688942</td>\n",
       "      <td>-2.087618</td>\n",
       "      <td>0.447263</td>\n",
       "      <td>0.631851</td>\n",
       "      <td>0.569907</td>\n",
       "      <td>0.437687</td>\n",
       "      <td>1.516322</td>\n",
       "    </tr>\n",
       "    <tr>\n",
       "      <th>C</th>\n",
       "      <td>-0.298401</td>\n",
       "      <td>-1.720294</td>\n",
       "      <td>-0.952158</td>\n",
       "      <td>1.795829</td>\n",
       "      <td>-0.123402</td>\n",
       "      <td>-0.982666</td>\n",
       "      <td>1.214709</td>\n",
       "      <td>-0.257918</td>\n",
       "      <td>-0.215614</td>\n",
       "      <td>1.505156</td>\n",
       "    </tr>\n",
       "    <tr>\n",
       "      <th>D</th>\n",
       "      <td>-0.366397</td>\n",
       "      <td>0.086436</td>\n",
       "      <td>1.808060</td>\n",
       "      <td>0.413630</td>\n",
       "      <td>-0.357056</td>\n",
       "      <td>0.977227</td>\n",
       "      <td>-1.672795</td>\n",
       "      <td>-1.190969</td>\n",
       "      <td>-1.130975</td>\n",
       "      <td>0.835170</td>\n",
       "    </tr>\n",
       "    <tr>\n",
       "      <th>E</th>\n",
       "      <td>-0.317380</td>\n",
       "      <td>1.097898</td>\n",
       "      <td>2.171840</td>\n",
       "      <td>1.156678</td>\n",
       "      <td>0.446195</td>\n",
       "      <td>-0.019804</td>\n",
       "      <td>-0.327133</td>\n",
       "      <td>0.595678</td>\n",
       "      <td>-1.229176</td>\n",
       "      <td>0.485990</td>\n",
       "    </tr>\n",
       "  </tbody>\n",
       "</table>\n",
       "</div>"
      ],
      "text/plain": [
       "   2000-05-20  2000-05-21  2000-05-22  2000-05-23  2000-05-24  2000-05-25  \\\n",
       "A   -1.326728    0.300610    0.320990    0.513012   -0.275238    1.043232   \n",
       "B    0.270480    0.228423   -0.605087   -1.688942   -2.087618    0.447263   \n",
       "C   -0.298401   -1.720294   -0.952158    1.795829   -0.123402   -0.982666   \n",
       "D   -0.366397    0.086436    1.808060    0.413630   -0.357056    0.977227   \n",
       "E   -0.317380    1.097898    2.171840    1.156678    0.446195   -0.019804   \n",
       "\n",
       "   2000-05-26  2000-05-27  2000-05-28  2000-05-29  \n",
       "A    0.130816    2.186614    0.882515   -0.288368  \n",
       "B    0.631851    0.569907    0.437687    1.516322  \n",
       "C    1.214709   -0.257918   -0.215614    1.505156  \n",
       "D   -1.672795   -1.190969   -1.130975    0.835170  \n",
       "E   -0.327133    0.595678   -1.229176    0.485990  "
      ]
     },
     "execution_count": 14,
     "metadata": {},
     "output_type": "execute_result"
    }
   ],
   "source": [
    "df3.T"
   ]
  },
  {
   "cell_type": "code",
   "execution_count": null,
   "id": "3d2513ab",
   "metadata": {},
   "outputs": [],
   "source": [
    "df3.sort_index(axis=1, ascending=False)"
   ]
  },
  {
   "cell_type": "code",
   "execution_count": 17,
   "id": "187b4522",
   "metadata": {},
   "outputs": [
    {
     "data": {
      "text/plain": [
       "A   -1.326728\n",
       "B    0.270480\n",
       "C   -0.298401\n",
       "D   -0.366397\n",
       "E   -0.317380\n",
       "Name: 2000-05-20 00:00:00, dtype: float64"
      ]
     },
     "execution_count": 17,
     "metadata": {},
     "output_type": "execute_result"
    }
   ],
   "source": [
    "df3.loc[dates[0]]"
   ]
  },
  {
   "cell_type": "code",
   "execution_count": 19,
   "id": "2c281d5c",
   "metadata": {},
   "outputs": [
    {
     "data": {
      "text/html": [
       "<div>\n",
       "<style scoped>\n",
       "    .dataframe tbody tr th:only-of-type {\n",
       "        vertical-align: middle;\n",
       "    }\n",
       "\n",
       "    .dataframe tbody tr th {\n",
       "        vertical-align: top;\n",
       "    }\n",
       "\n",
       "    .dataframe thead th {\n",
       "        text-align: right;\n",
       "    }\n",
       "</style>\n",
       "<table border=\"1\" class=\"dataframe\">\n",
       "  <thead>\n",
       "    <tr style=\"text-align: right;\">\n",
       "      <th></th>\n",
       "      <th>A</th>\n",
       "      <th>B</th>\n",
       "    </tr>\n",
       "  </thead>\n",
       "  <tbody>\n",
       "    <tr>\n",
       "      <th>2000-05-21</th>\n",
       "      <td>0.30061</td>\n",
       "      <td>0.228423</td>\n",
       "    </tr>\n",
       "    <tr>\n",
       "      <th>2000-05-22</th>\n",
       "      <td>0.32099</td>\n",
       "      <td>-0.605087</td>\n",
       "    </tr>\n",
       "  </tbody>\n",
       "</table>\n",
       "</div>"
      ],
      "text/plain": [
       "                  A         B\n",
       "2000-05-21  0.30061  0.228423\n",
       "2000-05-22  0.32099 -0.605087"
      ]
     },
     "execution_count": 19,
     "metadata": {},
     "output_type": "execute_result"
    }
   ],
   "source": [
    "df3.loc[\"2000-05-21\":\"2000-05-22\", [\"A\", \"B\"]]"
   ]
  },
  {
   "cell_type": "code",
   "execution_count": 39,
   "id": "795f8946",
   "metadata": {},
   "outputs": [],
   "source": [
    "x=df3.iloc[:,:-1].values"
   ]
  },
  {
   "cell_type": "code",
   "execution_count": 40,
   "id": "7db6b66d",
   "metadata": {},
   "outputs": [
    {
     "name": "stdout",
     "output_type": "stream",
     "text": [
      "[[ 0.2704799  -0.29840131 -0.36639679]\n",
      " [ 0.22842311 -1.72029381  0.08643649]\n",
      " [-0.60508654 -0.95215769  1.80806018]\n",
      " [-1.68894177  1.79582948  0.41362978]\n",
      " [-2.08761782 -0.12340212 -0.35705573]\n",
      " [ 0.44726322 -0.9826657   0.97722657]\n",
      " [ 0.63185145  1.21470914 -1.67279542]\n",
      " [ 0.56990653 -0.25791752 -1.19096903]\n",
      " [ 0.43768679 -0.21561449 -1.13097485]\n",
      " [ 1.51632219  1.50515624  0.83517047]]\n"
     ]
    }
   ],
   "source": [
    "print(x)"
   ]
  },
  {
   "cell_type": "code",
   "execution_count": null,
   "id": "354435a2",
   "metadata": {},
   "outputs": [],
   "source": []
  }
 ],
 "metadata": {
  "kernelspec": {
   "display_name": "Python 3.9.12 ('base')",
   "language": "python",
   "name": "python3"
  },
  "language_info": {
   "codemirror_mode": {
    "name": "ipython",
    "version": 3
   },
   "file_extension": ".py",
   "mimetype": "text/x-python",
   "name": "python",
   "nbconvert_exporter": "python",
   "pygments_lexer": "ipython3",
   "version": "3.9.12"
  },
  "vscode": {
   "interpreter": {
    "hash": "ad2bdc8ecc057115af97d19610ffacc2b4e99fae6737bb82f5d7fb13d2f2c186"
   }
  }
 },
 "nbformat": 4,
 "nbformat_minor": 5
}
